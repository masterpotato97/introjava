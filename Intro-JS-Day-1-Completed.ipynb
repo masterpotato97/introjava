{
 "cells": [
  {
   "cell_type": "markdown",
   "id": "b49428f3",
   "metadata": {},
   "source": [
    "# Index for Intro To JavaScript"
   ]
  },
  {
   "cell_type": "markdown",
   "id": "743e6670",
   "metadata": {},
   "source": [
    "[Intro To JS](#introjs)<br>\n",
    "&emsp;[var keyword](#var)<br>\n",
    "&emsp; [Strings](#strings)<br>\n",
    "&emsp;&emsp;[Exercise #1](#ice1)<br>\n",
    "&emsp;&emsp;[Template Strings](#templit)<br>\n",
    "&emsp;&emsp;[Exercise #2](#ice2)<br>\n",
    "&emsp; [typeof Operator](#typeof)<br>\n",
    "&emsp; [Number Type](#numerics)<br>\n",
    "&emsp;&emsp; [Math Operations](#math)<br>\n",
    "&emsp;&emsp; [Type Conversion](#typeconver)<br>\n",
    "&emsp;[Booleans](#bools)<br>\n",
    "&emsp;[Null and Undefined](#nullundef)<br>\n",
    "&emsp; [Let and Const](#letconst)<br>\n",
    "&emsp; [Arrays](#arrays)<br>\n",
    "&emsp;&emsp;[Rest Operator](#rest)<br>\n",
    "&emsp;&emsp;[forEach](#foreach)<br>\n",
    "&emsp;&emsp;[filter](#filter)<br>\n",
    "&emsp;&emsp;[map](#map)<br>\n",
    "&emsp;&emsp;[reduce](#reduce)<br>\n",
    "&emsp;&emsp;[Exercise #3](#ice3)<br>\n",
    "&emsp;[Functions](#functions)<br>\n",
    "&emsp;&emsp;[Regular Functions](#regfunc)<br>\n",
    "&emsp;&emsp;&emsp;[Exercise #4](#ice4)<br>\n",
    "&emsp;&emsp;&emsp;[Arrow Functions](#arrowfunc)<br>\n",
    "&emsp;&emsp;&emsp;[Exercise #5](#ice5)<br>\n",
    "&emsp;&emsp;&emsp;[Exercise #6](#ice6)<br>\n",
    "&emsp;&emsp;[Spread Operator](#spread)<br>\n",
    "&emsp;[Flow Control](#flow)<br>\n",
    "&emsp;&emsp;[if Statement](#if)<br>\n",
    "&emsp;&emsp;&emsp;[Exercise #7](#ice7)<br>\n",
    "&emsp;&emsp;&emsp;[Ternary Operator](#ternary)<br>\n",
    "&emsp;&emsp;[for Loop](#loop)<br>\n",
    "&emsp;&emsp;&emsp;[Exercise #8](#ice8)<br>\n",
    "&emsp;&emsp; [for of Loop](#forof)<br>\n",
    "&emsp;&emsp; [While](#while)<br>\n",
    "&emsp;&emsp; [Break and Continue](#bandc)<br>\n",
    "&emsp; [Application State](#state)<br>\n",
    "&emsp; [Homework](#hw)"
   ]
  },
  {
   "cell_type": "markdown",
   "id": "899d2332",
   "metadata": {},
   "source": [
    "# Intro To JavaScript\n",
    "<a id=\"introjs\"></a>"
   ]
  },
  {
   "cell_type": "markdown",
   "id": "1fa92879",
   "metadata": {},
   "source": [
    "In 1995 Netscape Navigator (the first popular GUIed web browser) introduced JavaScript to have a programmatic language that worked within the web browser (typical uses for most other languages like Perl, Python, Java, etc., work on the server hosting the website, not the browser running on the client's computer). This led to colossal innovation and, eventually, widespread adoption of the JavaScript language in all browsers. Unfortunately, this also meant that each browser could implement JavaScript in its own way. This issue was also seen in the early days of CSS. To combat this issue and allow browsers to respond in the same to JavaScript, a series of standards was created called ECMAScript. While ECMAScript has many different releases and versions, the two significant releases we talk about are ES5 and ES6, as the ES5 and ES6 releases added tons of new capabilities. Both versions have slightly different ways of handling things.\n",
    "\n",
    "We have some good news! JavaScript was created in 10 days, so we can surely learn it in less!\n",
    "JavaScript became popular because using it within the webpage allowed you to send the user a copy of your webpage. Then, using API calls or conditional rendering, you could change and update a portion of the page without updating the entire page or even without making another request back to the website server.\n",
    "\n",
    "Like Python, JavaScript is dynamically typed, meaning datatypes are not declared. Instead, the language assumes the value using Duck Typing (if it walks, talks, and acts like a duck, it must be a duck). Dynamically typed languages are easier to write but harder to maintain. Instead of getting errors at compile time (like while working in VS Code), you get errors at the run time (like when someone is actively using your application). Next Week we will learn how to use TypeScript to enable Static typing in JavaScript.\n",
    "\n",
    "<strong>Note:</strong> Java and JavaScript are completely unrelated. The reason JavaScript has its name is marketing. JavaScript was originally called Mocha, but in 1995 Java was all the rage, and Netscape decided to capitalize on its popularity by changing the name Mocha to JavaScript."
   ]
  },
  {
   "cell_type": "markdown",
   "id": "536ca042",
   "metadata": {},
   "source": [
    "### Comments\n",
    "<a id=\"comments\"></a>\n",
    "To write comments in JS we can use // at the beginning of a line or in the middle of a line\n",
    "\n",
    "To make a multiline comment we use /* comment */"
   ]
  },
  {
   "cell_type": "code",
   "execution_count": 1,
   "id": "e9fcd212",
   "metadata": {},
   "outputs": [
    {
     "name": "stdout",
     "output_type": "stream",
     "text": [
      "hello\n"
     ]
    }
   ],
   "source": [
    "// I am a comment\n",
    "console.log('hello') // This prints Hello and this is also a comment\n",
    "/*\n",
    "I am a comment\n",
    "That I can write\n",
    "on many lines\n",
    "great for documentation!\n",
    "*/"
   ]
  },
  {
   "cell_type": "markdown",
   "id": "b9833932",
   "metadata": {},
   "source": [
    "### Var Keyword\n",
    "<a id=\"var\"></a>\n",
    "\n",
    "In JavaScript, we can declare a variable without giving in a value.  \n",
    "\n",
    "Variables should be declared using a keyword such as var, let, or const (more on let and const later)\n",
    "\n",
    "<strong>Note:</strong> When creating variables in JS, we don't use snake_case like in Python; we use camelCase in JS.\n",
    "\n",
    "camelCase is where the first letter of the first word is lowercase, and any other comments will start with a Capital Letter, so in Python and snake case, we would write this_is_my_var, and in JS, it would be thisIsMyVar\n"
   ]
  },
  {
   "cell_type": "code",
   "execution_count": 2,
   "id": "85e19e36",
   "metadata": {},
   "outputs": [],
   "source": [
    "var firstName;"
   ]
  },
  {
   "cell_type": "markdown",
   "id": "cbdb8f27",
   "metadata": {},
   "source": [
    "#### Note: When we declare a variable and do not assign it a value, it gets a value of 'undefined'\n",
    "\n",
    "<strong>Note:</strong> console.log() is a function similar to the Python print function that will forward the output to the standard output stream"
   ]
  },
  {
   "cell_type": "code",
   "execution_count": 3,
   "id": "e278761f",
   "metadata": {
    "scrolled": true
   },
   "outputs": [
    {
     "name": "stdout",
     "output_type": "stream",
     "text": [
      "undefined\n"
     ]
    }
   ],
   "source": [
    "console.log(firstName);"
   ]
  },
  {
   "cell_type": "markdown",
   "id": "016d0740",
   "metadata": {},
   "source": [
    "#### We can assign the variable a value like so: \n",
    "<strong>Note:</strong> I only use var in the initial declaration"
   ]
  },
  {
   "cell_type": "code",
   "execution_count": 4,
   "id": "b2a0fce8",
   "metadata": {},
   "outputs": [
    {
     "data": {
      "text/plain": [
       "'George'"
      ]
     },
     "execution_count": 4,
     "metadata": {},
     "output_type": "execute_result"
    }
   ],
   "source": [
    "firstName=\"George\";"
   ]
  },
  {
   "cell_type": "code",
   "execution_count": 5,
   "id": "c05c1474",
   "metadata": {
    "scrolled": true
   },
   "outputs": [
    {
     "name": "stdout",
     "output_type": "stream",
     "text": [
      "George\n"
     ]
    }
   ],
   "source": [
    "console.log(firstName);"
   ]
  },
  {
   "cell_type": "markdown",
   "id": "1eab3092",
   "metadata": {},
   "source": [
    "#### We can even declare and assign a variable all in one step."
   ]
  },
  {
   "cell_type": "code",
   "execution_count": 6,
   "id": "63aaf5e8",
   "metadata": {},
   "outputs": [],
   "source": [
    "var lastName=\"Bush\";"
   ]
  },
  {
   "cell_type": "code",
   "execution_count": 7,
   "id": "2a6fd661",
   "metadata": {
    "scrolled": false
   },
   "outputs": [
    {
     "name": "stdout",
     "output_type": "stream",
     "text": [
      "Bush\n"
     ]
    }
   ],
   "source": [
    "console.log(lastName);"
   ]
  },
  {
   "cell_type": "markdown",
   "id": "50a2ebc9",
   "metadata": {},
   "source": [
    "### Redeclaring\n",
    "This is pretty neat, but it has its issues. One major issue is that with the var keyword, you can redeclare your variable, and this should be avoided."
   ]
  },
  {
   "cell_type": "code",
   "execution_count": 8,
   "id": "1c7462f5",
   "metadata": {},
   "outputs": [
    {
     "name": "stdout",
     "output_type": "stream",
     "text": [
      "Bush\n"
     ]
    }
   ],
   "source": [
    "var lastName\n",
    "console.log(lastName) // it's not undefined here, we get the previous value"
   ]
  },
  {
   "cell_type": "code",
   "execution_count": 9,
   "id": "5bf9f60f",
   "metadata": {},
   "outputs": [
    {
     "name": "stdout",
     "output_type": "stream",
     "text": [
      "George Clinton\n"
     ]
    }
   ],
   "source": [
    "var lastName=\"Clinton\"\n",
    "console.log(firstName, lastName) // now we have overwritten the original variable lastName\n",
    "// and turned the president into a funk musician"
   ]
  },
  {
   "cell_type": "markdown",
   "id": "bf945454",
   "metadata": {},
   "source": [
    "#### Note: While it possible to create variables without a keyword like var, it is considered bad practice and should be avoided.  It can easily create bugs and issues within your code base"
   ]
  },
  {
   "cell_type": "code",
   "execution_count": 10,
   "id": "354dd54c",
   "metadata": {},
   "outputs": [
    {
     "name": "stdout",
     "output_type": "stream",
     "text": [
      "DO NOT DO THIS\n"
     ]
    }
   ],
   "source": [
    "// Bad Practice; AVOID!\n",
    "message=\"DO NOT DO THIS\";\n",
    "console.log(message);"
   ]
  },
  {
   "cell_type": "markdown",
   "id": "0522f03f",
   "metadata": {},
   "source": [
    "### Statement Termination\n",
    "JavaScript lines end with a semicolon or a newline, so to write multiple statements on the same line, you have to use semicolons between the statements, or just use a newline"
   ]
  },
  {
   "cell_type": "code",
   "execution_count": 11,
   "id": "3b88a3a9",
   "metadata": {},
   "outputs": [
    {
     "name": "stdout",
     "output_type": "stream",
     "text": [
      "George\n",
      "Clinton\n"
     ]
    }
   ],
   "source": [
    "//On One Line\n",
    "console.log(firstName); console.log(lastName);"
   ]
  },
  {
   "cell_type": "code",
   "execution_count": 12,
   "id": "5955f0b5",
   "metadata": {
    "scrolled": true
   },
   "outputs": [
    {
     "name": "stdout",
     "output_type": "stream",
     "text": [
      "George\n",
      "Clinton\n",
      "George\n",
      "Clinton\n"
     ]
    }
   ],
   "source": [
    "// on Multiple Lines (the semi colons are now optional)\n",
    "console.log(firstName);\n",
    "console.log(lastName);\n",
    "console.log(firstName)\n",
    "console.log(lastName)"
   ]
  },
  {
   "cell_type": "code",
   "execution_count": 13,
   "id": "f14c43b6",
   "metadata": {},
   "outputs": [
    {
     "ename": "SyntaxError",
     "evalue": "Unexpected identifier",
     "output_type": "error",
     "traceback": [
      "evalmachine.<anonymous>:2",
      "console.log(firstName) console.log(lastName)",
      "                       ^^^^^^^",
      "",
      "SyntaxError: Unexpected identifier",
      "    at new Script (node:vm:100:7)",
      "    at createScript (node:vm:265:10)",
      "    at Object.runInThisContext (node:vm:313:10)",
      "    at run ([eval]:1020:15)",
      "    at onRunRequest ([eval]:864:18)",
      "    at onMessage ([eval]:828:13)",
      "    at process.emit (node:events:513:28)",
      "    at emit (node:internal/child_process:937:14)",
      "    at process.processTicksAndRejections (node:internal/process/task_queues:83:21)"
     ]
    }
   ],
   "source": [
    "// But this will not work\n",
    "console.log(firstName) console.log(lastName)"
   ]
  },
  {
   "cell_type": "markdown",
   "id": "c9171bbb",
   "metadata": {},
   "source": [
    "### Strings"
   ]
  },
  {
   "cell_type": "markdown",
   "id": "80f97aa3",
   "metadata": {},
   "source": [
    "<a id=\"strings\"></a>\n",
    "\n",
    "Strings in JS are declared and used very similarly to Python. You can use single or double quotes (but not triple quotes), and useescape sequences to place ambiguous characters.\n",
    "\n",
    "<strong>Note:</strong> Like Python, Strings are also immutable"
   ]
  },
  {
   "cell_type": "code",
   "execution_count": 14,
   "id": "0b7b7fac",
   "metadata": {},
   "outputs": [],
   "source": [
    "var myString1 = \"This is a string\"\n",
    "var myString2 = 'This is also a String'\n",
    "var myString3 = \"John's string with an apostrophe \"\n",
    "var myString4 = 'John\\'s string with an apostrophe '\n",
    "var myString5 = \"My \\\"string\\\" with quotes \"\n",
    "var myString6 = 'My \"string\" with quotes '\n"
   ]
  },
  {
   "cell_type": "code",
   "execution_count": 15,
   "id": "891c8a2e",
   "metadata": {},
   "outputs": [
    {
     "name": "stdout",
     "output_type": "stream",
     "text": [
      "This is a string\n",
      "This is also a String\n",
      "John's string with an apostrophe \n",
      "John's string with an apostrophe \n",
      "My \"string\" with quotes \n",
      "My \"string\" with quotes \n"
     ]
    }
   ],
   "source": [
    "console.log(myString1)\n",
    "console.log(myString2)\n",
    "console.log(myString3)\n",
    "console.log(myString4)\n",
    "console.log(myString5)\n",
    "console.log(myString6)"
   ]
  },
  {
   "cell_type": "markdown",
   "id": "91ebdd6b",
   "metadata": {},
   "source": [
    "#### String Concatenation"
   ]
  },
  {
   "cell_type": "markdown",
   "id": "453dfed3",
   "metadata": {},
   "source": [
    "Just like in Python, we can concatenate string with a plus sign"
   ]
  },
  {
   "cell_type": "code",
   "execution_count": 16,
   "id": "0f773277",
   "metadata": {},
   "outputs": [
    {
     "name": "stdout",
     "output_type": "stream",
     "text": [
      "George Clinton\n"
     ]
    }
   ],
   "source": [
    "var fullName = firstName + ' ' + lastName\n",
    "console.log(fullName)"
   ]
  },
  {
   "cell_type": "markdown",
   "id": "ecd3ae21",
   "metadata": {},
   "source": [
    "Sometimes you don't want to make a new variable and you just want to print the two variable with console.log. This works similarily to Python."
   ]
  },
  {
   "cell_type": "code",
   "execution_count": 17,
   "id": "3cf98143",
   "metadata": {
    "scrolled": true
   },
   "outputs": [
    {
     "name": "stdout",
     "output_type": "stream",
     "text": [
      "George Clinton\n"
     ]
    }
   ],
   "source": [
    "console.log(firstName, lastName) "
   ]
  },
  {
   "cell_type": "markdown",
   "id": "74560611",
   "metadata": {},
   "source": [
    "#### Access Characters in a String\n",
    "This works similarly to Python, except it does not allow for negative indices."
   ]
  },
  {
   "cell_type": "code",
   "execution_count": 18,
   "id": "08e48dd6",
   "metadata": {},
   "outputs": [
    {
     "data": {
      "text/plain": [
       "'G'"
      ]
     },
     "execution_count": 18,
     "metadata": {},
     "output_type": "execute_result"
    }
   ],
   "source": [
    "fullName[0]"
   ]
  },
  {
   "cell_type": "code",
   "execution_count": 19,
   "id": "ae63a7d2",
   "metadata": {},
   "outputs": [
    {
     "data": {
      "text/plain": [
       "'e'"
      ]
     },
     "execution_count": 19,
     "metadata": {},
     "output_type": "execute_result"
    }
   ],
   "source": [
    "fullName[5]"
   ]
  },
  {
   "cell_type": "code",
   "execution_count": 20,
   "id": "95ba2a1a",
   "metadata": {
    "scrolled": true
   },
   "outputs": [
    {
     "name": "stdout",
     "output_type": "stream",
     "text": [
      "undefined\n"
     ]
    }
   ],
   "source": [
    "console.log(fullName[19]) //Note: We Do not get an error, but we do get undefined"
   ]
  },
  {
   "cell_type": "code",
   "execution_count": 21,
   "id": "b640d4b2",
   "metadata": {},
   "outputs": [
    {
     "name": "stdout",
     "output_type": "stream",
     "text": [
      "undefined\n"
     ]
    }
   ],
   "source": [
    "console.log(fullName[-5])//Note: We Do not get an error with a negative index, but we do get undefined"
   ]
  },
  {
   "cell_type": "markdown",
   "id": "d1d67a81",
   "metadata": {},
   "source": [
    "#### String Methods"
   ]
  },
  {
   "cell_type": "markdown",
   "id": "f9ad8546",
   "metadata": {},
   "source": [
    "##### Convert to UPPERCASE\n",
    "JS provides the toUpperCase Method\n",
    "\n",
    "<strong>Note:</strong> Strings are immutable, so this doesn't affect the value of the original string"
   ]
  },
  {
   "cell_type": "code",
   "execution_count": 22,
   "id": "6b98bc2b",
   "metadata": {},
   "outputs": [
    {
     "data": {
      "text/plain": [
       "'GEORGE CLINTON'"
      ]
     },
     "execution_count": 22,
     "metadata": {},
     "output_type": "execute_result"
    }
   ],
   "source": [
    "fullName.toUpperCase()"
   ]
  },
  {
   "cell_type": "markdown",
   "id": "9c229718",
   "metadata": {},
   "source": [
    "##### Convert to lowercase\n",
    "JS provides the toLowerCase Method\n",
    "\n",
    "<strong>Note:</strong> Strings are immutable, so this doesn't affect the value of the original string"
   ]
  },
  {
   "cell_type": "code",
   "execution_count": 23,
   "id": "d0c53fd4",
   "metadata": {},
   "outputs": [
    {
     "data": {
      "text/plain": [
       "'george clinton'"
      ]
     },
     "execution_count": 23,
     "metadata": {},
     "output_type": "execute_result"
    }
   ],
   "source": [
    "fullName.toLowerCase()"
   ]
  },
  {
   "cell_type": "markdown",
   "id": "89f22edc",
   "metadata": {},
   "source": [
    "##### Convert to TitleCase\n",
    "JS does not provide us with this ability but we can create our own.\n",
    "\n",
    "Don't worry, no need to understand this function now, just providing it for you as a helpful resource."
   ]
  },
  {
   "cell_type": "code",
   "execution_count": 24,
   "id": "eb773664",
   "metadata": {},
   "outputs": [],
   "source": [
    "function titleCase(str) {\n",
    "  str = str.toLowerCase().split(' ');\n",
    "  for (var i = 0; i < str.length; i++) {\n",
    "    str[i] = str[i].charAt(0).toUpperCase() + str[i].slice(1); \n",
    "  }\n",
    "  return str.join(' ');\n",
    "}"
   ]
  },
  {
   "cell_type": "code",
   "execution_count": 25,
   "id": "09604ddd",
   "metadata": {},
   "outputs": [
    {
     "data": {
      "text/plain": [
       "'This Sentence Was Written By Someone With A Malfunctioning Shift Key'"
      ]
     },
     "execution_count": 25,
     "metadata": {},
     "output_type": "execute_result"
    }
   ],
   "source": [
    "titleCase(\"tHis SeNtenCe was WRIttEn by someone WiTh a malfuncTioning shift KEY\")"
   ]
  },
  {
   "cell_type": "markdown",
   "id": "56582680",
   "metadata": {},
   "source": [
    "##### Finding the length\n",
    "JS provides a .length method (not a function like in Python) to obtain this information."
   ]
  },
  {
   "cell_type": "code",
   "execution_count": 26,
   "id": "e452cb4b",
   "metadata": {},
   "outputs": [
    {
     "data": {
      "text/plain": [
       "14"
      ]
     },
     "execution_count": 26,
     "metadata": {},
     "output_type": "execute_result"
    }
   ],
   "source": [
    "fullName.length"
   ]
  },
  {
   "cell_type": "markdown",
   "id": "20726304",
   "metadata": {},
   "source": [
    "##### String Slicing\n",
    "We can use the slice method to obtain a portion of the string using indices.\n",
    "\n",
    ".slice(inclusive start index, exclusive end index)\n",
    "\n",
    "<strong>Note:</strong> Just like Python indices start with 0 in JS"
   ]
  },
  {
   "cell_type": "code",
   "execution_count": 27,
   "id": "2cc6f332",
   "metadata": {},
   "outputs": [
    {
     "data": {
      "text/plain": [
       "'George Clinton'"
      ]
     },
     "execution_count": 27,
     "metadata": {},
     "output_type": "execute_result"
    }
   ],
   "source": [
    "fullName\n"
   ]
  },
  {
   "cell_type": "code",
   "execution_count": 28,
   "id": "3b3a686f",
   "metadata": {
    "scrolled": true
   },
   "outputs": [
    {
     "data": {
      "text/plain": [
       "'Clinton'"
      ]
     },
     "execution_count": 28,
     "metadata": {},
     "output_type": "execute_result"
    }
   ],
   "source": [
    "fullName.slice(7,14)"
   ]
  },
  {
   "cell_type": "markdown",
   "id": "7de520af",
   "metadata": {},
   "source": [
    "##### Using negative Indices\n",
    "Sometimes it's easier to count from the end of a string. We can do this by using negative indexing."
   ]
  },
  {
   "cell_type": "code",
   "execution_count": 29,
   "id": "f31efbff",
   "metadata": {
    "scrolled": true
   },
   "outputs": [
    {
     "data": {
      "text/plain": [
       "'George'"
      ]
     },
     "execution_count": 29,
     "metadata": {},
     "output_type": "execute_result"
    }
   ],
   "source": [
    "fullName.slice(-14,-8)"
   ]
  },
  {
   "cell_type": "markdown",
   "id": "1db54bd0",
   "metadata": {},
   "source": [
    "### In Class Exercise #1\n",
    "<a id=\"ice1\"></a>"
   ]
  },
  {
   "cell_type": "markdown",
   "id": "defdd94c",
   "metadata": {},
   "source": [
    "In the cell provided, create a variable named 'compoundString' with the value 'hereinbefore'\n",
    "\n",
    "Now, use the variable and the slice function to print (log to the console) the word in"
   ]
  },
  {
   "cell_type": "code",
   "execution_count": 2,
   "id": "ce1c2c61",
   "metadata": {},
   "outputs": [
    {
     "name": "stdout",
     "output_type": "stream",
     "text": [
      "in\n"
     ]
    }
   ],
   "source": [
    "compoundstring ='hereinbefore'\n",
    "console.log(compoundstring.slice(4,6))\n",
    "\n",
    "\n",
    "\n"
   ]
  },
  {
   "cell_type": "markdown",
   "id": "c170fa5c",
   "metadata": {},
   "source": [
    "##### Replacing Substrings\n",
    "We can replace a portion of a string using the .replace method."
   ]
  },
  {
   "cell_type": "code",
   "execution_count": 30,
   "id": "824d7031",
   "metadata": {},
   "outputs": [
    {
     "data": {
      "text/plain": [
       "'Bill Clinton'"
      ]
     },
     "execution_count": 30,
     "metadata": {},
     "output_type": "execute_result"
    }
   ],
   "source": [
    "fullName.replace('George', 'Bill')"
   ]
  },
  {
   "cell_type": "markdown",
   "id": "1158cd1d",
   "metadata": {},
   "source": [
    "<strong>Note:</strong> The Original String fullName has remained unchanged throughout these methods because strings are immutable"
   ]
  },
  {
   "cell_type": "code",
   "execution_count": 31,
   "id": "780e1782",
   "metadata": {
    "scrolled": true
   },
   "outputs": [
    {
     "name": "stdout",
     "output_type": "stream",
     "text": [
      "George Clinton\n"
     ]
    }
   ],
   "source": [
    "console.log(fullName)"
   ]
  },
  {
   "cell_type": "markdown",
   "id": "50a8d9d1",
   "metadata": {},
   "source": [
    "##### Template Literal\n",
    "<a id=\"templit\"></a>\n",
    "Often called Template Strings which are similar to f-strings in Python\n",
    "\n",
    "We can use Backticks (\\`) (usually next to the one key on the same key as the ~) to declare a string and then use ${myVariable} to insert a variable\n",
    "\n",
    "These also allow for multiline strings\n"
   ]
  },
  {
   "cell_type": "code",
   "execution_count": 32,
   "id": "831d5cd2",
   "metadata": {},
   "outputs": [
    {
     "name": "stdout",
     "output_type": "stream",
     "text": [
      "This is\n",
      "a string\n",
      "written on 3 lines\n",
      "\n"
     ]
    }
   ],
   "source": [
    "var stringOn3Lines = `This is\n",
    "a string\n",
    "written on 3 lines\n",
    "`\n",
    "console.log(stringOn3Lines)"
   ]
  },
  {
   "cell_type": "code",
   "execution_count": 33,
   "id": "18a9f54c",
   "metadata": {},
   "outputs": [
    {
     "name": "stdout",
     "output_type": "stream",
     "text": [
      "The best funk musician of his time was George Clinton\n"
     ]
    }
   ],
   "source": [
    "var templateLiteral = `The best funk musician of his time was ${fullName}`\n",
    "console.log(templateLiteral)"
   ]
  },
  {
   "cell_type": "markdown",
   "id": "031e31c5",
   "metadata": {},
   "source": [
    "We can even use multiple varaibles in one string"
   ]
  },
  {
   "cell_type": "code",
   "execution_count": 34,
   "id": "dd3c11fc",
   "metadata": {
    "scrolled": false
   },
   "outputs": [
    {
     "name": "stdout",
     "output_type": "stream",
     "text": [
      "The best funk musician of his time was Clinton, George : George Clinton\n"
     ]
    }
   ],
   "source": [
    "var templateLiteral2 = `The best funk musician of his time was ${lastName}, ${firstName} : ${fullName}`\n",
    "console.log(templateLiteral2)"
   ]
  },
  {
   "cell_type": "markdown",
   "id": "61c910e0",
   "metadata": {},
   "source": [
    "### In Class Exercise #2\n",
    "<a id=\"ice2\"></a>\n"
   ]
  },
  {
   "cell_type": "markdown",
   "id": "92088f2e",
   "metadata": {},
   "source": [
    "In the cell provided, create 3 variables describing your best friend, then tell us about your best friend using a template string."
   ]
  },
  {
   "cell_type": "code",
   "execution_count": null,
   "id": "91d04c52",
   "metadata": {},
   "outputs": [],
   "source": [
    "\n",
    "\n",
    "\n",
    "\n"
   ]
  },
  {
   "cell_type": "markdown",
   "id": "e1166adb",
   "metadata": {},
   "source": [
    "### typeof Operator\n",
    "<a id=\"typeof\"></a>\n"
   ]
  },
  {
   "cell_type": "markdown",
   "id": "ff29196f",
   "metadata": {},
   "source": [
    "JS provide us with the typeof operator to determine the datatype of a variable (it is not a function, thus does not require parentheses)"
   ]
  },
  {
   "cell_type": "code",
   "execution_count": 35,
   "id": "6cf4ef13",
   "metadata": {},
   "outputs": [
    {
     "data": {
      "text/plain": [
       "'string'"
      ]
     },
     "execution_count": 35,
     "metadata": {},
     "output_type": "execute_result"
    }
   ],
   "source": [
    "typeof fullName;"
   ]
  },
  {
   "cell_type": "markdown",
   "id": "efcd2f50",
   "metadata": {},
   "source": [
    "### Numeric Type\n",
    "<a id=\"numerics\"></a>\n"
   ]
  },
  {
   "cell_type": "markdown",
   "id": "bc4e2dd7",
   "metadata": {},
   "source": [
    "Unlike many other languages, JS only has one numeric type.\n",
    "\n",
    "So in JS, all numbers (ints, shorts, longs, floats, and doubles) are stored as double precision floating point numbers as their numeric datatype"
   ]
  },
  {
   "cell_type": "code",
   "execution_count": 36,
   "id": "3ee27f81",
   "metadata": {},
   "outputs": [
    {
     "name": "stdout",
     "output_type": "stream",
     "text": [
      "12\n",
      "number\n"
     ]
    }
   ],
   "source": [
    "var someInt = 12\n",
    "console.log(someInt)\n",
    "console.log(typeof someInt)"
   ]
  },
  {
   "cell_type": "code",
   "execution_count": 37,
   "id": "92d57480",
   "metadata": {
    "scrolled": true
   },
   "outputs": [
    {
     "name": "stdout",
     "output_type": "stream",
     "text": [
      "3.14\n",
      "number\n"
     ]
    }
   ],
   "source": [
    "var someFloat = 3.14\n",
    "console.log(someFloat)\n",
    "console.log(typeof someFloat)"
   ]
  },
  {
   "cell_type": "markdown",
   "id": "dc271118",
   "metadata": {},
   "source": [
    "##### Mathematical Operations\n",
    "<a id=\"math\"></a>\n"
   ]
  },
  {
   "cell_type": "markdown",
   "id": "eff67cc4",
   "metadata": {},
   "source": [
    "Basic mathematic operations are the same as in Python, except JS does not have built in integer division (// in Python)\n",
    "\n",
    "We also gain the ++ and -- operators that will increment or decrement your variable by one"
   ]
  },
  {
   "cell_type": "markdown",
   "id": "c00080ce",
   "metadata": {},
   "source": [
    "<strong>Addition</strong>"
   ]
  },
  {
   "cell_type": "code",
   "execution_count": 38,
   "id": "2e9ae0c6",
   "metadata": {},
   "outputs": [
    {
     "name": "stdout",
     "output_type": "stream",
     "text": [
      "10\n",
      "15\n",
      "16\n"
     ]
    }
   ],
   "source": [
    "var sum = 5 + 5 \n",
    "console.log(sum)\n",
    "sum +=5\n",
    "console.log(sum)\n",
    "sum++ //adds one\n",
    "console.log(sum)"
   ]
  },
  {
   "cell_type": "markdown",
   "id": "c7d9ef4f",
   "metadata": {},
   "source": [
    "<strong>Subtraction</strong>"
   ]
  },
  {
   "cell_type": "code",
   "execution_count": 39,
   "id": "7224a9b9",
   "metadata": {},
   "outputs": [
    {
     "name": "stdout",
     "output_type": "stream",
     "text": [
      "0\n",
      "-5\n",
      "-6\n"
     ]
    }
   ],
   "source": [
    "var diff = 5 - 5\n",
    "console.log(diff)\n",
    "diff -= 5\n",
    "console.log(diff)\n",
    "diff--  //subtracts one\n",
    "console.log(diff)"
   ]
  },
  {
   "cell_type": "markdown",
   "id": "f7eabcf5",
   "metadata": {},
   "source": [
    "<strong>Muplication</strong>"
   ]
  },
  {
   "cell_type": "code",
   "execution_count": 40,
   "id": "7a4ddd36",
   "metadata": {},
   "outputs": [
    {
     "name": "stdout",
     "output_type": "stream",
     "text": [
      "25\n",
      "125\n"
     ]
    }
   ],
   "source": [
    "var prod = 5*5;\n",
    "console.log(prod);\n",
    "prod *= 5;\n",
    "console.log(prod);"
   ]
  },
  {
   "cell_type": "markdown",
   "id": "d8bd9c8d",
   "metadata": {},
   "source": [
    "<strong>Division</strong>"
   ]
  },
  {
   "cell_type": "code",
   "execution_count": 41,
   "id": "78b5a70c",
   "metadata": {},
   "outputs": [
    {
     "name": "stdout",
     "output_type": "stream",
     "text": [
      "1\n",
      "number\n",
      "0.2\n",
      "number\n"
     ]
    }
   ],
   "source": [
    "var divide = 5/5 //1\n",
    "console.log(divide)\n",
    "console.log(typeof divide) //Note: all Numbers are number type\n",
    "divide /= 5 // .2\n",
    "console.log(divide)\n",
    "console.log(typeof divide) //Note: all Numbers are number type"
   ]
  },
  {
   "cell_type": "markdown",
   "id": "58c20a98",
   "metadata": {},
   "source": [
    "<strong>Exponents</strong>"
   ]
  },
  {
   "cell_type": "code",
   "execution_count": 42,
   "id": "ac0b4f74",
   "metadata": {},
   "outputs": [
    {
     "name": "stdout",
     "output_type": "stream",
     "text": [
      "25\n",
      "625\n"
     ]
    }
   ],
   "source": [
    "var square = 5**2;\n",
    "console.log(square); //25\n",
    "square **= 2;\n",
    "console.log(square); // 625"
   ]
  },
  {
   "cell_type": "markdown",
   "id": "98ded4ce",
   "metadata": {},
   "source": [
    "<strong>Floor Division</strong>"
   ]
  },
  {
   "cell_type": "markdown",
   "id": "7b18dbce",
   "metadata": {},
   "source": [
    "JS provides a helper class called Math to provide some Mathematical operations, this class is built-in to JS"
   ]
  },
  {
   "cell_type": "code",
   "execution_count": 6,
   "id": "8ddf4c03",
   "metadata": {},
   "outputs": [
    {
     "name": "stdout",
     "output_type": "stream",
     "text": [
      "3\n"
     ]
    }
   ],
   "source": [
    "// In python we did 5//2 = 2\n",
    "var floor = Math.floor(3.5)\n",
    "console.log(floor) //2"
   ]
  },
  {
   "cell_type": "markdown",
   "id": "e2058486",
   "metadata": {},
   "source": [
    "<strong>Ceiling Division</strong>"
   ]
  },
  {
   "cell_type": "code",
   "execution_count": 44,
   "id": "b8f5c8bf",
   "metadata": {},
   "outputs": [
    {
     "name": "stdout",
     "output_type": "stream",
     "text": [
      "3\n"
     ]
    }
   ],
   "source": [
    "var ceil = Math.ceil(5/2)\n",
    "console.log(ceil) //3"
   ]
  },
  {
   "cell_type": "markdown",
   "id": "d82a49e5",
   "metadata": {},
   "source": [
    "<strong>Prefixing and Postfixing ++</strong>"
   ]
  },
  {
   "cell_type": "code",
   "execution_count": 45,
   "id": "1c85b54a",
   "metadata": {},
   "outputs": [
    {
     "name": "stdout",
     "output_type": "stream",
     "text": [
      "2\n",
      "2\n",
      "1\n",
      "2\n"
     ]
    }
   ],
   "source": [
    "let prefix = 1;\n",
    "console.log(++prefix); // 2\n",
    "console.log(prefix); // 2\n",
    "\n",
    "let postfix = 1;\n",
    "console.log(postfix++); // 1\n",
    "console.log(postfix); // 2"
   ]
  },
  {
   "cell_type": "markdown",
   "id": "25c039da",
   "metadata": {},
   "source": [
    "<strong>Prefixing and Postfixing --</strong>"
   ]
  },
  {
   "cell_type": "code",
   "execution_count": 7,
   "id": "b76ec05f",
   "metadata": {},
   "outputs": [
    {
     "name": "stdout",
     "output_type": "stream",
     "text": [
      "0\n",
      "0\n",
      "1\n",
      "0\n"
     ]
    }
   ],
   "source": [
    "let prefixs = 1;\n",
    "console.log(--prefixs); // 0\n",
    "console.log(prefixs); // 0\n",
    "\n",
    "let postfixs = 1;\n",
    "console.log(postfixs--); // 1\n",
    "console.log(postfixs); // 0"
   ]
  },
  {
   "cell_type": "markdown",
   "id": "8221208d",
   "metadata": {},
   "source": [
    "<strong>Modulo</strong>"
   ]
  },
  {
   "cell_type": "markdown",
   "id": "d308a19a",
   "metadata": {},
   "source": [
    "Remember the Modulo is the remainder left after division. This is a very important tool."
   ]
  },
  {
   "cell_type": "code",
   "execution_count": 47,
   "id": "0376f704",
   "metadata": {},
   "outputs": [
    {
     "name": "stdout",
     "output_type": "stream",
     "text": [
      "3.144\n",
      "2\n",
      "2\n"
     ]
    }
   ],
   "source": [
    "var modulo1 = 5 % 3\n",
    "// check this out\n",
    "var stuff = 3.14 + '4'\n",
    "console.log(stuff)\n",
    "console.log(modulo1)\n",
    "\n",
    "var modulo2 = 5\n",
    "modulo2 %= 3\n",
    "console.log(modulo2)"
   ]
  },
  {
   "cell_type": "markdown",
   "id": "42c5f964",
   "metadata": {},
   "source": [
    "<strong>Type Conversions</strong>\n",
    "<a id=\"typeconver\"></a>\n"
   ]
  },
  {
   "cell_type": "markdown",
   "id": "fcc14059",
   "metadata": {},
   "source": [
    "JS provides a way to convert numbers and strings, similar to the int() and str() functions in Python"
   ]
  },
  {
   "cell_type": "code",
   "execution_count": 48,
   "id": "29c6740a",
   "metadata": {
    "scrolled": true
   },
   "outputs": [
    {
     "name": "stdout",
     "output_type": "stream",
     "text": [
      "string\n",
      "number\n",
      "123\n"
     ]
    }
   ],
   "source": [
    "var stringNum = '123'\n",
    "console.log(typeof stringNum)\n",
    "var myNum = parseInt(stringNum) //this is a function\n",
    "console.log(typeof myNum)\n",
    "console.log(myNum)"
   ]
  },
  {
   "cell_type": "markdown",
   "id": "5ca778c4",
   "metadata": {},
   "source": [
    "<strong>Note: </strong> Using parseInt on a decimal number gives you a whole number (rounding down). Instead, use parseFloat."
   ]
  },
  {
   "cell_type": "code",
   "execution_count": 49,
   "id": "5c72e98b",
   "metadata": {
    "scrolled": true
   },
   "outputs": [
    {
     "name": "stdout",
     "output_type": "stream",
     "text": [
      "string\n",
      "number\n",
      "12\n"
     ]
    }
   ],
   "source": [
    "var stringFloat = '12.3'\n",
    "console.log(typeof stringFloat)\n",
    "var stringFloatAsInt = parseInt(stringFloat)\n",
    "console.log(typeof stringFloatAsInt)\n",
    "console.log(stringFloatAsInt)\n"
   ]
  },
  {
   "cell_type": "code",
   "execution_count": 50,
   "id": "970dfbcd",
   "metadata": {},
   "outputs": [
    {
     "name": "stdout",
     "output_type": "stream",
     "text": [
      "number\n",
      "12.3\n"
     ]
    }
   ],
   "source": [
    "var myFloat = parseFloat(stringFloat)\n",
    "console.log(typeof myFloat)\n",
    "console.log(myFloat)"
   ]
  },
  {
   "cell_type": "code",
   "execution_count": 51,
   "id": "7afcee6c",
   "metadata": {},
   "outputs": [
    {
     "name": "stdout",
     "output_type": "stream",
     "text": [
      "number\n",
      "string\n",
      "123\n"
     ]
    }
   ],
   "source": [
    "var aNum = 123\n",
    "console.log(typeof aNum)\n",
    "var sNum = aNum.toString() // This is a method \n",
    "console.log(typeof sNum)\n",
    "console.log(sNum)\n"
   ]
  },
  {
   "cell_type": "markdown",
   "id": "2fcaa7d5",
   "metadata": {},
   "source": [
    "<strong>Interactions with Strings</strong>"
   ]
  },
  {
   "cell_type": "markdown",
   "id": "3ed1004e",
   "metadata": {},
   "source": [
    "Unlike Python, JS will implicitly convert your number to a string when adding strings and integers.\n",
    "\n",
    "This behavior makes sense when you think about the reason for JavaScript. JS was developed to deliver information to an HTML page, and generally, when you are doing this, you want to include your number in a string and not do mathematical operations."
   ]
  },
  {
   "cell_type": "code",
   "execution_count": 52,
   "id": "b5639155",
   "metadata": {},
   "outputs": [
    {
     "name": "stdout",
     "output_type": "stream",
     "text": [
      "3.144\n"
     ]
    }
   ],
   "source": [
    "// check this out\n",
    "var stuff2 = 3.14 + '4'\n",
    "console.log(stuff2)\n"
   ]
  },
  {
   "cell_type": "code",
   "execution_count": 53,
   "id": "3b8da768",
   "metadata": {},
   "outputs": [
    {
     "ename": "SyntaxError",
     "evalue": "Identifier 'stuff2' has already been declared",
     "output_type": "error",
     "traceback": [
      "evalmachine.<anonymous>:1",
      "// Lets correct this to do math",
      "^",
      "",
      "SyntaxError: Identifier 'stuff2' has already been declared",
      "    at Script.runInThisContext (node:vm:129:12)",
      "    at Object.runInThisContext (node:vm:313:38)",
      "    at run ([eval]:1020:15)",
      "    at onRunRequest ([eval]:864:18)",
      "    at onMessage ([eval]:828:13)",
      "    at process.emit (node:events:513:28)",
      "    at emit (node:internal/child_process:937:14)",
      "    at process.processTicksAndRejections (node:internal/process/task_queues:83:21)"
     ]
    }
   ],
   "source": [
    "// Lets correct this to do math\n",
    "let stuff2 = 3.14 + parseInt('4')\n",
    "console.log(stuff2)\n",
    "/*\n",
    "Note This operation shows use 7.140000000000001\n",
    "and not 7.14 like we would expect\n",
    "This is due to the limited precision of binary floating-point representations\n",
    "as numbers when stored in memory are stored in a binary (base 2) number system as opposed to\n",
    "the the base 10 (decimal) system we are used to\n",
    "*/"
   ]
  },
  {
   "cell_type": "code",
   "execution_count": 54,
   "id": "b4fdcddc",
   "metadata": {},
   "outputs": [
    {
     "name": "stdout",
     "output_type": "stream",
     "text": [
      "3.144\n"
     ]
    }
   ],
   "source": [
    "// Or to explicitly tell it to add as strings we can write:\n",
    "\n",
    "let stuff3 = 3.14.toString() + \"4\"\n",
    "console.log(stuff3)"
   ]
  },
  {
   "cell_type": "code",
   "execution_count": 55,
   "id": "3dad45ba",
   "metadata": {
    "scrolled": true
   },
   "outputs": [
    {
     "name": "stdout",
     "output_type": "stream",
     "text": [
      "5.140000000000001\n"
     ]
    }
   ],
   "source": [
    "//using decimal numbers\n",
    "\n",
    "console.log(parseFloat('3.14')+2)\n"
   ]
  },
  {
   "cell_type": "markdown",
   "id": "d27d92fd",
   "metadata": {},
   "source": [
    "### Boolean Types\n",
    "<a id=\"bools\"></a>\n"
   ]
  },
  {
   "cell_type": "markdown",
   "id": "bcc2f8a6",
   "metadata": {},
   "source": [
    "Boolean datatypes are true and false in JS, not True and False like in Python (notice the capitalization)"
   ]
  },
  {
   "cell_type": "code",
   "execution_count": 56,
   "id": "284cf50c",
   "metadata": {},
   "outputs": [
    {
     "name": "stdout",
     "output_type": "stream",
     "text": [
      "true\n"
     ]
    }
   ],
   "source": [
    "var myBool1 = true\n",
    "console.log(myBool1)"
   ]
  },
  {
   "cell_type": "code",
   "execution_count": 57,
   "id": "da4c0406",
   "metadata": {},
   "outputs": [
    {
     "name": "stdout",
     "output_type": "stream",
     "text": [
      "false\n"
     ]
    }
   ],
   "source": [
    "var myBool2 = false\n",
    "console.log(myBool2)"
   ]
  },
  {
   "cell_type": "markdown",
   "id": "8ef95eb6",
   "metadata": {},
   "source": [
    "#### Comparison Operators"
   ]
  },
  {
   "cell_type": "markdown",
   "id": "d3e19569",
   "metadata": {},
   "source": [
    "These work just like they do in Python or in mathematics"
   ]
  },
  {
   "cell_type": "code",
   "execution_count": 58,
   "id": "2cc33a6a",
   "metadata": {},
   "outputs": [
    {
     "name": "stdout",
     "output_type": "stream",
     "text": [
      "true\n",
      "true\n",
      "false\n",
      "false\n",
      "false\n"
     ]
    }
   ],
   "source": [
    "console.log(1<2) //true\n",
    "console.log(1<=2) //true\n",
    "console.log(1>2) //false\n",
    "console.log(1>=2) //false\n",
    "console.log(1==2) //false"
   ]
  },
  {
   "cell_type": "markdown",
   "id": "7940d670",
   "metadata": {},
   "source": [
    "#### Strict Equailty"
   ]
  },
  {
   "cell_type": "code",
   "execution_count": 59,
   "id": "ef692824",
   "metadata": {
    "scrolled": true
   },
   "outputs": [
    {
     "data": {
      "text/plain": [
       "true"
      ]
     },
     "execution_count": 59,
     "metadata": {},
     "output_type": "execute_result"
    }
   ],
   "source": [
    "1==\"1\" //true same value different datatype"
   ]
  },
  {
   "cell_type": "code",
   "execution_count": 60,
   "id": "37f1fed7",
   "metadata": {},
   "outputs": [
    {
     "data": {
      "text/plain": [
       "false"
      ]
     },
     "execution_count": 60,
     "metadata": {},
     "output_type": "execute_result"
    }
   ],
   "source": [
    "1===\"1\" //False because a string is not an integer"
   ]
  },
  {
   "cell_type": "markdown",
   "id": "f0f6fd31",
   "metadata": {},
   "source": [
    "#### Negating booleans"
   ]
  },
  {
   "cell_type": "markdown",
   "id": "9d8d3e4e",
   "metadata": {},
   "source": [
    "In Python, we had access to the `not` keyword, in JS we only have access to the logical not operator `!`\n",
    "\n",
    "It can precede any boolean arguement to switch its value"
   ]
  },
  {
   "cell_type": "code",
   "execution_count": 61,
   "id": "c3a0cede",
   "metadata": {
    "scrolled": true
   },
   "outputs": [
    {
     "data": {
      "text/plain": [
       "false"
      ]
     },
     "execution_count": 61,
     "metadata": {},
     "output_type": "execute_result"
    }
   ],
   "source": [
    "1!=\"1\" //false"
   ]
  },
  {
   "cell_type": "code",
   "execution_count": 62,
   "id": "d87b138f",
   "metadata": {
    "scrolled": true
   },
   "outputs": [
    {
     "data": {
      "text/plain": [
       "true"
      ]
     },
     "execution_count": 62,
     "metadata": {},
     "output_type": "execute_result"
    }
   ],
   "source": [
    "1!==\"1\" //true"
   ]
  },
  {
   "cell_type": "markdown",
   "id": "c3e3e302",
   "metadata": {},
   "source": [
    "#### Converting to Booleans"
   ]
  },
  {
   "cell_type": "code",
   "execution_count": 63,
   "id": "526cb328",
   "metadata": {
    "scrolled": true
   },
   "outputs": [
    {
     "name": "stdout",
     "output_type": "stream",
     "text": [
      "true\n",
      "false\n",
      "true\n",
      "false\n",
      "false\n",
      "false\n"
     ]
    }
   ],
   "source": [
    "console.log(Boolean('false')) //prints true because a string with a value is considered true\n",
    "console.log(Boolean(''))//prints false because an empty string is considered false\n",
    "console.log(Boolean(123))//prints true because any number other than 0 is true\n",
    "console.log(Boolean(0))//prints false because 0 is always false\n",
    "\n",
    "console.log(Boolean(null)) // false\n",
    "console.log(Boolean(undefined)) //false\n"
   ]
  },
  {
   "cell_type": "markdown",
   "id": "c6124644",
   "metadata": {},
   "source": [
    "#### Double Negation\n"
   ]
  },
  {
   "cell_type": "markdown",
   "id": "42530a87",
   "metadata": {},
   "source": [
    "Another common tactic to convert variables to booleans with to use a double negation `!!`"
   ]
  },
  {
   "cell_type": "code",
   "execution_count": 64,
   "id": "9df58e0b",
   "metadata": {},
   "outputs": [
    {
     "name": "stdout",
     "output_type": "stream",
     "text": [
      "John Jacob Jingleheimer Schmidt\n",
      "false\n",
      "true\n"
     ]
    }
   ],
   "source": [
    "var myName = \"John Jacob Jingleheimer Schmidt\"\n",
    "console.log(myName)\n",
    "console.log(!myName) //false \n",
    "// Note: using one ! gives us the opposite output we would have gotten than if we passed the value to the Boolean wrapper\n",
    "console.log(!!myName) //true\n",
    "//Here, we use the negation once to convert to a boolean and then again to return it back to its correct value"
   ]
  },
  {
   "cell_type": "markdown",
   "id": "c5c6f904",
   "metadata": {},
   "source": [
    "#### Chaining Booleans"
   ]
  },
  {
   "cell_type": "markdown",
   "id": "298461e1",
   "metadata": {},
   "source": [
    "In Python, we had the keywords `and` and `or`, but in JS we use the operators `&&` and `||` (and & or)"
   ]
  },
  {
   "cell_type": "code",
   "execution_count": 65,
   "id": "95ef3d67",
   "metadata": {
    "scrolled": true
   },
   "outputs": [
    {
     "data": {
      "text/plain": [
       "true"
      ]
     },
     "execution_count": 65,
     "metadata": {},
     "output_type": "execute_result"
    }
   ],
   "source": [
    "true || true"
   ]
  },
  {
   "cell_type": "code",
   "execution_count": 66,
   "id": "bb572f17",
   "metadata": {
    "scrolled": true
   },
   "outputs": [
    {
     "data": {
      "text/plain": [
       "true"
      ]
     },
     "execution_count": 66,
     "metadata": {},
     "output_type": "execute_result"
    }
   ],
   "source": [
    "true || false"
   ]
  },
  {
   "cell_type": "code",
   "execution_count": 67,
   "id": "dd55f9fd",
   "metadata": {},
   "outputs": [
    {
     "data": {
      "text/plain": [
       "false"
      ]
     },
     "execution_count": 67,
     "metadata": {},
     "output_type": "execute_result"
    }
   ],
   "source": [
    "false || false"
   ]
  },
  {
   "cell_type": "code",
   "execution_count": 68,
   "id": "f4b2fc50",
   "metadata": {},
   "outputs": [
    {
     "data": {
      "text/plain": [
       "true"
      ]
     },
     "execution_count": 68,
     "metadata": {},
     "output_type": "execute_result"
    }
   ],
   "source": [
    "true && true"
   ]
  },
  {
   "cell_type": "code",
   "execution_count": 69,
   "id": "fe91be75",
   "metadata": {},
   "outputs": [
    {
     "data": {
      "text/plain": [
       "false"
      ]
     },
     "execution_count": 69,
     "metadata": {},
     "output_type": "execute_result"
    }
   ],
   "source": [
    "true && false"
   ]
  },
  {
   "cell_type": "code",
   "execution_count": 70,
   "id": "59203508",
   "metadata": {
    "scrolled": true
   },
   "outputs": [
    {
     "data": {
      "text/plain": [
       "false"
      ]
     },
     "execution_count": 70,
     "metadata": {},
     "output_type": "execute_result"
    }
   ],
   "source": [
    "false && false"
   ]
  },
  {
   "cell_type": "markdown",
   "id": "7375e295",
   "metadata": {},
   "source": [
    "#### Short Circuiting "
   ]
  },
  {
   "cell_type": "markdown",
   "id": "98ee733a",
   "metadata": {},
   "source": [
    "When using the `&&` operator, once an expression returns false no following expressions are ran.\n",
    "\n",
    "With the || operator, it will stop and return true if the first argument is true"
   ]
  },
  {
   "cell_type": "code",
   "execution_count": 71,
   "id": "5af0dbd4",
   "metadata": {},
   "outputs": [],
   "source": [
    "function t1(){\n",
    "    console.log('t1 ran')\n",
    "    return false\n",
    "}\n",
    "\n",
    "function t2(){\n",
    "    console.log('t2 ran')\n",
    "    return false\n",
    "}\n"
   ]
  },
  {
   "cell_type": "markdown",
   "id": "167818ee",
   "metadata": {},
   "source": [
    "Now, chaining these two functions with the add operator, we see that the only output in the console is `t1 ran`. This is because t1 returned false, so JS decided it already knew the statement should return false, so it doesn't execute the t2() function."
   ]
  },
  {
   "cell_type": "code",
   "execution_count": 72,
   "id": "7e844158",
   "metadata": {
    "scrolled": true
   },
   "outputs": [
    {
     "name": "stdout",
     "output_type": "stream",
     "text": [
      "t1 ran\n"
     ]
    },
    {
     "data": {
      "text/plain": [
       "false"
      ]
     },
     "execution_count": 72,
     "metadata": {},
     "output_type": "execute_result"
    }
   ],
   "source": [
    "t1()&&t2()"
   ]
  },
  {
   "cell_type": "code",
   "execution_count": 73,
   "id": "73c35e87",
   "metadata": {},
   "outputs": [
    {
     "name": "stdout",
     "output_type": "stream",
     "text": [
      "t1 ran\n"
     ]
    },
    {
     "data": {
      "text/plain": [
       "true"
      ]
     },
     "execution_count": 73,
     "metadata": {},
     "output_type": "execute_result"
    }
   ],
   "source": [
    "!t1()||!t2()"
   ]
  },
  {
   "cell_type": "markdown",
   "id": "2f35fc22",
   "metadata": {},
   "source": [
    "## null vs undefined\n",
    "<a id=\"nullundef\"></a>\n"
   ]
  },
  {
   "cell_type": "markdown",
   "id": "7a95f261",
   "metadata": {},
   "source": [
    "undefined means the variable was declared and not given a value or an undefined value\n",
    "\n",
    "null is a value and can be assigned to represent no value"
   ]
  },
  {
   "cell_type": "code",
   "execution_count": 74,
   "id": "15e1e2ab",
   "metadata": {},
   "outputs": [
    {
     "name": "stdout",
     "output_type": "stream",
     "text": [
      "undefined\n",
      "undefined\n",
      "null\n",
      "\n",
      "types: \n",
      "\n",
      "undefined\n",
      "undefined\n",
      "object\n"
     ]
    }
   ],
   "source": [
    "var myNull = null\n",
    "var myUndefined1 = undefined\n",
    "var myUndefined2\n",
    "\n",
    "console.log(myUndefined1)\n",
    "console.log(myUndefined2)\n",
    "console.log(myNull)\n",
    "console.log('\\ntypes: \\n')\n",
    "console.log(typeof myUndefined1)\n",
    "console.log(typeof myUndefined2)\n",
    "console.log(typeof myNull) //null is an object!"
   ]
  },
  {
   "cell_type": "markdown",
   "id": "f156ebb9",
   "metadata": {},
   "source": [
    "## Let and Const\n",
    "<a id=\"letconst\"></a>\n"
   ]
  },
  {
   "cell_type": "markdown",
   "id": "d3048103",
   "metadata": {},
   "source": [
    "So far we have declared all our variables with the keyword var.\n",
    "\n",
    "In the current JS (post ES-6), the word var should actually be avoided at all costs.\n",
    "\n",
    "In ECMAScript 6 they introduced let and const, which vary in scope and in redeclaration from var\n",
    "\n",
    "For more information watch this great YouTube video <a href=\"https://youtube.com/watch?v=9WIJQDvt4Us\">youtube.com/watch?v=9WIJQDvt4Us</a>"
   ]
  },
  {
   "cell_type": "code",
   "execution_count": 75,
   "id": "62201f58",
   "metadata": {},
   "outputs": [
    {
     "name": "stdout",
     "output_type": "stream",
     "text": [
      "test\n",
      "test2\n"
     ]
    }
   ],
   "source": [
    "var myVar = \"test\"\n",
    "console.log(myVar)\n",
    "var myVar = \"test2\" // var can be redeclared; This can be dangerous\n",
    "console.log(myVar)"
   ]
  },
  {
   "cell_type": "code",
   "execution_count": 76,
   "id": "c1c1fc63",
   "metadata": {
    "scrolled": false
   },
   "outputs": [
    {
     "ename": "SyntaxError",
     "evalue": "Identifier 'myLet' has already been declared",
     "output_type": "error",
     "traceback": [
      "evalmachine.<anonymous>:3",
      "let myLet = \"test2\" //Throws an error on redeclaration; Saves us from ourselves",
      "    ^",
      "",
      "SyntaxError: Identifier 'myLet' has already been declared",
      "    at new Script (node:vm:100:7)",
      "    at createScript (node:vm:265:10)",
      "    at Object.runInThisContext (node:vm:313:10)",
      "    at run ([eval]:1020:15)",
      "    at onRunRequest ([eval]:864:18)",
      "    at onMessage ([eval]:828:13)",
      "    at process.emit (node:events:513:28)",
      "    at emit (node:internal/child_process:937:14)",
      "    at process.processTicksAndRejections (node:internal/process/task_queues:83:21)"
     ]
    }
   ],
   "source": [
    "let myLet = \"test\"\n",
    "console.log(myLet)\n",
    "let myLet = \"test2\" //Throws an error on redeclaration; Saves us from ourselves"
   ]
  },
  {
   "cell_type": "code",
   "execution_count": 77,
   "id": "f3d9bf87",
   "metadata": {
    "scrolled": true
   },
   "outputs": [
    {
     "ename": "SyntaxError",
     "evalue": "Identifier 'myConst' has already been declared",
     "output_type": "error",
     "traceback": [
      "evalmachine.<anonymous>:3",
      "const myConst \"test2\" //Throws an error on redeclaration; Saves us from ourselves",
      "      ^",
      "",
      "SyntaxError: Identifier 'myConst' has already been declared",
      "    at new Script (node:vm:100:7)",
      "    at createScript (node:vm:265:10)",
      "    at Object.runInThisContext (node:vm:313:10)",
      "    at run ([eval]:1020:15)",
      "    at onRunRequest ([eval]:864:18)",
      "    at onMessage ([eval]:828:13)",
      "    at process.emit (node:events:513:28)",
      "    at emit (node:internal/child_process:937:14)",
      "    at process.processTicksAndRejections (node:internal/process/task_queues:83:21)"
     ]
    }
   ],
   "source": [
    "const myConst = \"test\"\n",
    "console.log(myLet)\n",
    "const myConst \"test2\" //Throws an error on redeclaration; Saves us from ourselves"
   ]
  },
  {
   "cell_type": "markdown",
   "id": "7cf7f537",
   "metadata": {},
   "source": [
    "You can still reassign the let varaibles, but not the const variables because they are constant (do not change)"
   ]
  },
  {
   "cell_type": "code",
   "execution_count": 78,
   "id": "96449452",
   "metadata": {
    "scrolled": true
   },
   "outputs": [
    {
     "name": "stdout",
     "output_type": "stream",
     "text": [
      "test\n",
      "test2\n"
     ]
    }
   ],
   "source": [
    "let myLet=\"test\"\n",
    "console.log(myLet)\n",
    "myLet = \"test2\" //allowed\n",
    "console.log(myLet) "
   ]
  },
  {
   "cell_type": "code",
   "execution_count": 79,
   "id": "a1352cdd",
   "metadata": {},
   "outputs": [
    {
     "name": "stdout",
     "output_type": "stream",
     "text": [
      "test\n"
     ]
    },
    {
     "ename": "TypeError",
     "evalue": "Assignment to constant variable.",
     "output_type": "error",
     "traceback": [
      "evalmachine.<anonymous>:3",
      "myConst = \"test2\" //not allowed/Throws Error as a const can never change",
      "        ^",
      "",
      "TypeError: Assignment to constant variable.",
      "    at evalmachine.<anonymous>:3:9",
      "    at Script.runInThisContext (node:vm:129:12)",
      "    at Object.runInThisContext (node:vm:313:38)",
      "    at run ([eval]:1020:15)",
      "    at onRunRequest ([eval]:864:18)",
      "    at onMessage ([eval]:828:13)",
      "    at process.emit (node:events:513:28)",
      "    at emit (node:internal/child_process:937:14)",
      "    at process.processTicksAndRejections (node:internal/process/task_queues:83:21)"
     ]
    }
   ],
   "source": [
    "const myConst=\"test\"\n",
    "console.log(myConst)\n",
    "myConst = \"test2\" //not allowed/Throws Error as a const can never change\n",
    "console.log(myConst) "
   ]
  },
  {
   "cell_type": "markdown",
   "id": "95c6489a",
   "metadata": {},
   "source": [
    "Also, Let and Const have different scoping than var.\n",
    "\n",
    "Let and Const are blocked scoped, meaning they are only avialible to their code block or descendent code blocks."
   ]
  },
  {
   "cell_type": "code",
   "execution_count": 80,
   "id": "bc461806",
   "metadata": {},
   "outputs": [
    {
     "name": "stdout",
     "output_type": "stream",
     "text": [
      "test\n",
      "outside of the if block test\n"
     ]
    }
   ],
   "source": [
    "\n",
    "if(true){\n",
    "    var testVar = \"test\"\n",
    "    console.log(testVar)\n",
    "}\n",
    "\n",
    "console.log('outside of the if block', testVar)"
   ]
  },
  {
   "cell_type": "code",
   "execution_count": 81,
   "id": "97a659a4",
   "metadata": {},
   "outputs": [
    {
     "name": "stdout",
     "output_type": "stream",
     "text": [
      "test\n"
     ]
    },
    {
     "ename": "ReferenceError",
     "evalue": "testLet1 is not defined",
     "output_type": "error",
     "traceback": [
      "evalmachine.<anonymous>:7",
      "console.log('outside of the if block', testLet1) // ERROR Not Defined",
      "                                       ^",
      "",
      "ReferenceError: testLet1 is not defined",
      "    at evalmachine.<anonymous>:7:40",
      "    at Script.runInThisContext (node:vm:129:12)",
      "    at Object.runInThisContext (node:vm:313:38)",
      "    at run ([eval]:1020:15)",
      "    at onRunRequest ([eval]:864:18)",
      "    at onMessage ([eval]:828:13)",
      "    at process.emit (node:events:513:28)",
      "    at emit (node:internal/child_process:937:14)",
      "    at process.processTicksAndRejections (node:internal/process/task_queues:83:21)"
     ]
    }
   ],
   "source": [
    "\n",
    "if(true){\n",
    "    let testLet1 = \"test\"\n",
    "    console.log(testLet1)\n",
    "}\n",
    "\n",
    "console.log('outside of the if block', testLet1) // ERROR Not Defined"
   ]
  },
  {
   "cell_type": "code",
   "execution_count": 82,
   "id": "3ada52d4",
   "metadata": {},
   "outputs": [
    {
     "name": "stdout",
     "output_type": "stream",
     "text": [
      "test\n"
     ]
    },
    {
     "ename": "ReferenceError",
     "evalue": "testConst is not defined",
     "output_type": "error",
     "traceback": [
      "evalmachine.<anonymous>:7",
      "console.log('outside of the if block', testConst) // ERROR Not Defined",
      "                                       ^",
      "",
      "ReferenceError: testConst is not defined",
      "    at evalmachine.<anonymous>:7:40",
      "    at Script.runInThisContext (node:vm:129:12)",
      "    at Object.runInThisContext (node:vm:313:38)",
      "    at run ([eval]:1020:15)",
      "    at onRunRequest ([eval]:864:18)",
      "    at onMessage ([eval]:828:13)",
      "    at process.emit (node:events:513:28)",
      "    at emit (node:internal/child_process:937:14)",
      "    at process.processTicksAndRejections (node:internal/process/task_queues:83:21)"
     ]
    }
   ],
   "source": [
    "\n",
    "if(true){\n",
    "    const testConst = \"test\"\n",
    "    console.log(testConst)\n",
    "}\n",
    "\n",
    "console.log('outside of the if block', testConst) // ERROR Not Defined"
   ]
  },
  {
   "cell_type": "markdown",
   "id": "84a58081",
   "metadata": {},
   "source": [
    "# From now on, we will only use let and const"
   ]
  },
  {
   "cell_type": "markdown",
   "id": "62c5a05a",
   "metadata": {},
   "source": [
    "## Arrays\n",
    "<a id=\"arrays\"></a>\n"
   ]
  },
  {
   "cell_type": "markdown",
   "id": "5892d6e0",
   "metadata": {},
   "source": [
    "Arrays in JavaScript are similar to lists in Python. In both languages, they are heterogeneous (can contain different datatypes) collections and they both start at index 0."
   ]
  },
  {
   "cell_type": "markdown",
   "id": "753e2897",
   "metadata": {},
   "source": [
    "#### Declaring"
   ]
  },
  {
   "cell_type": "code",
   "execution_count": 83,
   "id": "bd9a5884",
   "metadata": {},
   "outputs": [],
   "source": [
    "let people = [\"Taylor Swift\", \"Harry Styles\", \"Beyonce\", \"Billie Eilish\"]"
   ]
  },
  {
   "cell_type": "markdown",
   "id": "f3b78f73",
   "metadata": {},
   "source": [
    "#### Accessing"
   ]
  },
  {
   "cell_type": "code",
   "execution_count": 84,
   "id": "8ee77c14",
   "metadata": {},
   "outputs": [
    {
     "name": "stdout",
     "output_type": "stream",
     "text": [
      "Beyonce\n"
     ]
    }
   ],
   "source": [
    "console.log(people[2]) // Beyonce"
   ]
  },
  {
   "cell_type": "code",
   "execution_count": 85,
   "id": "fb6dcb71",
   "metadata": {
    "scrolled": false
   },
   "outputs": [
    {
     "name": "stdout",
     "output_type": "stream",
     "text": [
      "undefined\n"
     ]
    }
   ],
   "source": [
    "// Negative indexing does not work\n",
    "console.log(people[-1]) //undefined"
   ]
  },
  {
   "cell_type": "markdown",
   "id": "4a10ef9f",
   "metadata": {},
   "source": [
    "#### .length Method"
   ]
  },
  {
   "cell_type": "code",
   "execution_count": 86,
   "id": "7268f047",
   "metadata": {},
   "outputs": [
    {
     "data": {
      "text/plain": [
       "4"
      ]
     },
     "execution_count": 86,
     "metadata": {},
     "output_type": "execute_result"
    }
   ],
   "source": [
    "people.length"
   ]
  },
  {
   "cell_type": "markdown",
   "id": "a43c810b",
   "metadata": {},
   "source": [
    "#### .push Method"
   ]
  },
  {
   "cell_type": "markdown",
   "id": "5d2411b0",
   "metadata": {},
   "source": [
    "the .push method in JS is similar to the .append method in Python.\n",
    "\n",
    "A key difference you will see is that in Python, .append returned None\n",
    "\n",
    "In JS, .push returns the length of the list after your addition"
   ]
  },
  {
   "cell_type": "code",
   "execution_count": 87,
   "id": "4a3334c6",
   "metadata": {
    "scrolled": true
   },
   "outputs": [
    {
     "name": "stdout",
     "output_type": "stream",
     "text": [
      "5\n"
     ]
    },
    {
     "data": {
      "text/plain": [
       "[\n",
       "  'Taylor Swift',\n",
       "  'Harry Styles',\n",
       "  'Beyonce',\n",
       "  'Billie Eilish',\n",
       "  'Lady Gaga'\n",
       "]"
      ]
     },
     "execution_count": 87,
     "metadata": {},
     "output_type": "execute_result"
    }
   ],
   "source": [
    "console.log(people.push('Lady Gaga'))// show 6 which is the length of the list\n",
    "people"
   ]
  },
  {
   "cell_type": "markdown",
   "id": "77090761",
   "metadata": {},
   "source": [
    "#### .pop method"
   ]
  },
  {
   "cell_type": "markdown",
   "id": "d7bdce92",
   "metadata": {},
   "source": [
    ".pop() works just like it does in Python.  It will remove the last element from an array and return its values"
   ]
  },
  {
   "cell_type": "code",
   "execution_count": 88,
   "id": "640df9a8",
   "metadata": {},
   "outputs": [
    {
     "name": "stdout",
     "output_type": "stream",
     "text": [
      "Lady Gaga\n"
     ]
    },
    {
     "data": {
      "text/plain": [
       "[ 'Taylor Swift', 'Harry Styles', 'Beyonce', 'Billie Eilish' ]"
      ]
     },
     "execution_count": 88,
     "metadata": {},
     "output_type": "execute_result"
    }
   ],
   "source": [
    "console.log(people.pop())\n",
    "people"
   ]
  },
  {
   "cell_type": "markdown",
   "id": "e215f19f",
   "metadata": {},
   "source": [
    "#### Array Destructuring Assignment"
   ]
  },
  {
   "cell_type": "markdown",
   "id": "9f87a3dd",
   "metadata": {},
   "source": [
    "In JS, we can decalre multiple variables at one time and assign them to a member of an array"
   ]
  },
  {
   "cell_type": "code",
   "execution_count": 89,
   "id": "f6e9f2ac",
   "metadata": {},
   "outputs": [
    {
     "name": "stdout",
     "output_type": "stream",
     "text": [
      "Taylor Swift\n",
      "Harry Styles\n",
      "Beyonce\n",
      "Billie Eilish\n"
     ]
    }
   ],
   "source": [
    "let [tswift, harry, beyonce, billie] = people\n",
    "console.log(tswift)\n",
    "console.log(harry)\n",
    "console.log(beyonce)\n",
    "console.log(billie)"
   ]
  },
  {
   "cell_type": "markdown",
   "id": "ca20304b",
   "metadata": {},
   "source": [
    "#### Using the Rest Operator `...`\n",
    "<a id=\"rest\"></a>\n"
   ]
  },
  {
   "cell_type": "markdown",
   "id": "32908e86",
   "metadata": {},
   "source": [
    "Sometimes, we don't want to store every member of the list into a variable and just want to store what we didn't pull out into a seperate variable. This can be achieved using the Rest operator `...`"
   ]
  },
  {
   "cell_type": "code",
   "execution_count": 90,
   "id": "ab7ff6af",
   "metadata": {
    "scrolled": true
   },
   "outputs": [
    {
     "name": "stdout",
     "output_type": "stream",
     "text": [
      "Taylor Swift\n",
      "Harry Styles\n",
      "and the others: \n",
      "[ 'Beyonce', 'Billie Eilish' ]\n"
     ]
    }
   ],
   "source": [
    "let [tswift2, harry2, ...others] = people\n",
    "console.log(tswift2) //type string\n",
    "console.log(harry2)  //type string\n",
    "console.log('and the others: ')\n",
    "console.log(others) //type array"
   ]
  },
  {
   "cell_type": "markdown",
   "id": "f0a1db67",
   "metadata": {},
   "source": [
    "#### .unshift Method"
   ]
  },
  {
   "cell_type": "markdown",
   "id": "4f3d2f80",
   "metadata": {},
   "source": [
    "We can add to the beginning of an array using unshift."
   ]
  },
  {
   "cell_type": "code",
   "execution_count": 91,
   "id": "349d5c6b",
   "metadata": {},
   "outputs": [
    {
     "name": "stdout",
     "output_type": "stream",
     "text": [
      "5\n"
     ]
    },
    {
     "data": {
      "text/plain": [
       "[\n",
       "  'Lady Gaga',\n",
       "  'Taylor Swift',\n",
       "  'Harry Styles',\n",
       "  'Beyonce',\n",
       "  'Billie Eilish'\n",
       "]"
      ]
     },
     "execution_count": 91,
     "metadata": {},
     "output_type": "execute_result"
    }
   ],
   "source": [
    "console.log(people.unshift('Lady Gaga')) // length of the array\n",
    "people"
   ]
  },
  {
   "cell_type": "markdown",
   "id": "fbb11a25",
   "metadata": {},
   "source": [
    "#### .shift Method"
   ]
  },
  {
   "cell_type": "markdown",
   "id": "5f0bd10d",
   "metadata": {},
   "source": [
    "We can remove from the beginning of an array using shift, which also returns us the removed member of the array"
   ]
  },
  {
   "cell_type": "code",
   "execution_count": 92,
   "id": "e02ce468",
   "metadata": {},
   "outputs": [
    {
     "name": "stdout",
     "output_type": "stream",
     "text": [
      "Lady Gaga\n"
     ]
    },
    {
     "data": {
      "text/plain": [
       "[ 'Taylor Swift', 'Harry Styles', 'Beyonce', 'Billie Eilish' ]"
      ]
     },
     "execution_count": 92,
     "metadata": {},
     "output_type": "execute_result"
    }
   ],
   "source": [
    "console.log(people.shift())\n",
    "people"
   ]
  },
  {
   "cell_type": "markdown",
   "id": "200582a6",
   "metadata": {},
   "source": [
    "#### indexOf Method"
   ]
  },
  {
   "cell_type": "markdown",
   "id": "e06cc9de",
   "metadata": {},
   "source": [
    "To find the index of a given member in a list, we can use the indexOf method"
   ]
  },
  {
   "cell_type": "code",
   "execution_count": 93,
   "id": "c4cc60e6",
   "metadata": {
    "scrolled": true
   },
   "outputs": [
    {
     "data": {
      "text/plain": [
       "2"
      ]
     },
     "execution_count": 93,
     "metadata": {},
     "output_type": "execute_result"
    }
   ],
   "source": [
    "people.indexOf('Beyonce')"
   ]
  },
  {
   "cell_type": "code",
   "execution_count": 94,
   "id": "ab4c67ea",
   "metadata": {},
   "outputs": [
    {
     "data": {
      "text/plain": [
       "-1"
      ]
     },
     "execution_count": 94,
     "metadata": {},
     "output_type": "execute_result"
    }
   ],
   "source": [
    "people.indexOf('Lady Gaga') //returns -1 if the member is not in the list"
   ]
  },
  {
   "cell_type": "markdown",
   "id": "48cc4b5e",
   "metadata": {},
   "source": [
    "#### forEach method\n",
    "<a id=\"foreach\"></a>\n"
   ]
  },
  {
   "cell_type": "markdown",
   "id": "157966a9",
   "metadata": {},
   "source": [
    "JS does provide us with for loops, but it also provides us with a forEach method that will loop over an array and executes a callback function for every member of your list.\n",
    "\n",
    "A Callback function is merely a function that you pass to another function to be excuted at another time\n",
    "\n",
    "```\n",
    "array.forEach(callback_function)\n",
    "```\n",
    "\n",
    "the callback function is structured:\n",
    "```\n",
    "(oneMemberOfArray)=>//do something with oneMemberOfArray\n",
    "```\n",
    "\n",
    "<strong>Note</strong>: This Method works out of place leaving the original array unchanged"
   ]
  },
  {
   "cell_type": "code",
   "execution_count": 95,
   "id": "f8a82656",
   "metadata": {},
   "outputs": [
    {
     "name": "stdout",
     "output_type": "stream",
     "text": [
      "Taylor Swift has the best live performaces\n",
      "Harry Styles has the best live performaces\n",
      "Beyonce has the best live performaces\n",
      "Billie Eilish has the best live performaces\n"
     ]
    }
   ],
   "source": [
    "people.forEach((aName)=>console.log(aName + \" has the best live performaces\"))\n"
   ]
  },
  {
   "cell_type": "markdown",
   "id": "4f9f42f8",
   "metadata": {},
   "source": [
    "<strong>Note:</strong> The callback function is:\n",
    "```(aName)=>console.log(aName + \" has the best live performaces\")```\n",
    "and we passed that as an argument to the forEach method\n"
   ]
  },
  {
   "cell_type": "markdown",
   "id": "41ca8048",
   "metadata": {},
   "source": [
    "#### .filter method\n",
    "<a id=\"filter\"></a>\n"
   ]
  },
  {
   "cell_type": "markdown",
   "id": "5c409321",
   "metadata": {},
   "source": [
    "The filter method will iterate over an array and filter out values that return true to the condition provided by the callback funtion.\n",
    "\n",
    "\n",
    "```\n",
    "array.filter(callback_function)\n",
    "```\n",
    "\n",
    "the callback function is structured:\n",
    "```\n",
    "(oneMemberOfArray)=>//Boolean evaluation to that evaluates to true for         oneMemberOfArray that should be retained\n",
    "```\n",
    "\n",
    "<strong>Note</strong>: This Method works out of place leaving the original array unchanged"
   ]
  },
  {
   "cell_type": "code",
   "execution_count": 96,
   "id": "75ec6258",
   "metadata": {},
   "outputs": [
    {
     "data": {
      "text/plain": [
       "[ 'Beyonce', 'Billie Eilish' ]"
      ]
     },
     "execution_count": 96,
     "metadata": {},
     "output_type": "execute_result"
    }
   ],
   "source": [
    "// Let's filter our array of people to only include people whose name start with b\n",
    "\n",
    "people.filter((aName)=>aName.toLowerCase()[0]=='b')"
   ]
  },
  {
   "cell_type": "markdown",
   "id": "11b03010",
   "metadata": {},
   "source": [
    "#### .map method\n",
    "<a id=\"map\"></a>\n"
   ]
  },
  {
   "cell_type": "markdown",
   "id": "56bf6f19",
   "metadata": {},
   "source": [
    "The map method will iterate over an array and run a function on every element of the array and store the functions returned value into the new array.\n",
    "\n",
    "```\n",
    "array.map(callback_function)\n",
    "```\n",
    "\n",
    "the callback function is structured:\n",
    "```\n",
    "(oneMemberOfArray)=>//manipuate oneMemberOfArray\n",
    "```\n",
    "<strong>Note:</strong> This Method works out of place leaving the original array unchanged"
   ]
  },
  {
   "cell_type": "code",
   "execution_count": 97,
   "id": "645549d0",
   "metadata": {},
   "outputs": [
    {
     "data": {
      "text/plain": [
       "[ 'TAYLOR SWIFT', 'HARRY STYLES', 'BEYONCE', 'BILLIE EILISH' ]"
      ]
     },
     "execution_count": 97,
     "metadata": {},
     "output_type": "execute_result"
    }
   ],
   "source": [
    "//Lets capitalize every memeber of our array\n",
    "\n",
    "people.map((aName)=>aName.toUpperCase())"
   ]
  },
  {
   "cell_type": "markdown",
   "id": "b076bef4",
   "metadata": {},
   "source": [
    "#### .reduce method\n",
    "<a id=\"reduce\"></a>\n"
   ]
  },
  {
   "cell_type": "markdown",
   "id": "44caf264",
   "metadata": {},
   "source": [
    "The reduce method will iterate over an array and run a reducer function against every member of the array.  This result will end up not with a new array but one value formed by all members of the array\n",
    "\n",
    "A Callback function is merely a function that you pass to another function to be excuted at another time\n",
    "\n",
    "```\n",
    "array.reduce(callback_function)\n",
    "```\n",
    "\n",
    "the callback function is structured:\n",
    "the aggregator represents all the combinations you have completed and the next item is the next item in the array that you want to combine into the aggregator.  The function body is where you define how the aggregator and the next item should be combined.\n",
    "```\n",
    "(aggregator, nextItem)=>//combine the aggregator with the nextItem in a desired way\n",
    "```\n",
    "<strong>Note:</strong> This Method works out of place leaving the original array unchanged"
   ]
  },
  {
   "cell_type": "code",
   "execution_count": 98,
   "id": "46a3ad55",
   "metadata": {},
   "outputs": [
    {
     "data": {
      "text/plain": [
       "'Taylor Swift, Harry Styles, Beyonce, Billie Eilish'"
      ]
     },
     "execution_count": 98,
     "metadata": {},
     "output_type": "execute_result"
    }
   ],
   "source": [
    "// Lets turn our list of names into a comma delimited string\n",
    "people.reduce((final_string, aName)=>final_string+=', '+aName)"
   ]
  },
  {
   "cell_type": "markdown",
   "id": "43a16941",
   "metadata": {},
   "source": [
    "#### .toString method"
   ]
  },
  {
   "cell_type": "markdown",
   "id": "31314812",
   "metadata": {},
   "source": [
    "This method will create a string based on your array seperated with commas but no spaces"
   ]
  },
  {
   "cell_type": "code",
   "execution_count": 99,
   "id": "89d13284",
   "metadata": {},
   "outputs": [
    {
     "data": {
      "text/plain": [
       "'Taylor Swift,Harry Styles,Beyonce,Billie Eilish'"
      ]
     },
     "execution_count": 99,
     "metadata": {},
     "output_type": "execute_result"
    }
   ],
   "source": [
    "people.toString()"
   ]
  },
  {
   "cell_type": "markdown",
   "id": "0126702a",
   "metadata": {},
   "source": [
    "#### .join Method"
   ]
  },
  {
   "cell_type": "markdown",
   "id": "9122c7c3",
   "metadata": {},
   "source": [
    "This method will concatenate the members of the array with a given string.\n",
    "\n",
    "```\n",
    "array.join(string_to_join_on)\n",
    "```"
   ]
  },
  {
   "cell_type": "code",
   "execution_count": 100,
   "id": "7b2799cc",
   "metadata": {},
   "outputs": [
    {
     "name": "stdout",
     "output_type": "stream",
     "text": [
      "Taylor Swift, Harry Styles, Beyonce, Billie Eilish\n"
     ]
    }
   ],
   "source": [
    "let namesAsStrings = people.join(', ')\n",
    "console.log(namesAsStrings) //returns a string type"
   ]
  },
  {
   "cell_type": "markdown",
   "id": "2bb01562",
   "metadata": {},
   "source": [
    "#### List Slicing"
   ]
  },
  {
   "cell_type": "markdown",
   "id": "12140438",
   "metadata": {},
   "source": [
    "In Python, we can slice a list by doing something like `my_list[2:4]`\n",
    "In JavaScript, we use the .slice method; it looks like:\n",
    "`myArray.slice(2,4)`\n",
    "This is an out of place function"
   ]
  },
  {
   "cell_type": "code",
   "execution_count": 101,
   "id": "4f7604b4",
   "metadata": {},
   "outputs": [
    {
     "name": "stdout",
     "output_type": "stream",
     "text": [
      "[ 'Beyonce', 'Billie Eilish' ]\n"
     ]
    }
   ],
   "source": [
    "console.log(people.slice(2,4))"
   ]
  },
  {
   "cell_type": "markdown",
   "id": "c152dd0c",
   "metadata": {},
   "source": [
    "#### List Splicing"
   ]
  },
  {
   "cell_type": "markdown",
   "id": "cb4fa239",
   "metadata": {},
   "source": [
    "JS gives use the ability to replace consective members of an array with other values using the `.splice` method\n",
    "\n",
    "```\n",
    "array.splice(start_index,delete count, items)\n",
    "```\n",
    "This method works IN-place"
   ]
  },
  {
   "cell_type": "markdown",
   "id": "a6dc56f0",
   "metadata": {},
   "source": [
    "##### Inserting an item"
   ]
  },
  {
   "cell_type": "code",
   "execution_count": 102,
   "id": "3dbae671",
   "metadata": {},
   "outputs": [
    {
     "name": "stdout",
     "output_type": "stream",
     "text": [
      "[]\n"
     ]
    }
   ],
   "source": [
    "// We want to add Ariana Grande after TSwift and before Harry Styles\n",
    "// So we use the start index of 1 because we want Ariana in the 1st index\n",
    "// We choose to delete 0 members of the list because we only want to insert Ariana\n",
    "// Then we add in the name we want to add to the list\n",
    "console.log(people.splice(1,0,\"Ariana Grande\")) // Note: the Method returns an empty array"
   ]
  },
  {
   "cell_type": "code",
   "execution_count": 103,
   "id": "e8ce0cee",
   "metadata": {
    "scrolled": true
   },
   "outputs": [
    {
     "data": {
      "text/plain": [
       "[\n",
       "  'Taylor Swift',\n",
       "  'Ariana Grande',\n",
       "  'Harry Styles',\n",
       "  'Beyonce',\n",
       "  'Billie Eilish'\n",
       "]"
      ]
     },
     "execution_count": 103,
     "metadata": {},
     "output_type": "execute_result"
    }
   ],
   "source": [
    "// This works in place so it changed the original list and did not create a new list\n",
    "people"
   ]
  },
  {
   "cell_type": "markdown",
   "id": "5179ab6e",
   "metadata": {},
   "source": [
    "##### Inserting and Removing an item"
   ]
  },
  {
   "cell_type": "code",
   "execution_count": 104,
   "id": "9a35712a",
   "metadata": {},
   "outputs": [
    {
     "name": "stdout",
     "output_type": "stream",
     "text": [
      "[ 'Taylor Swift', 'Latto', 'Harry Styles', 'Beyonce', 'Billie Eilish' ]\n"
     ]
    }
   ],
   "source": [
    "// We now want to remove Ariana Grande as she has become old news and replace her with Latto \n",
    "// We will start at position 1 again because we want Latto at position one\n",
    "// We will set the delete count to 1 to remove one entry after are insert (deletes Ariana)\n",
    "// And the item we want to add will be Latto \n",
    "people.splice(1,1,\"Latto\") \n",
    "console.log(people)"
   ]
  },
  {
   "cell_type": "markdown",
   "id": "f9f9adeb",
   "metadata": {},
   "source": [
    "##### Inserting and Removing multiple items"
   ]
  },
  {
   "cell_type": "code",
   "execution_count": 105,
   "id": "526beb31",
   "metadata": {},
   "outputs": [
    {
     "name": "stdout",
     "output_type": "stream",
     "text": [
      "[\n",
      "  'Taylor Swift',\n",
      "  'Nomfundo Moh',\n",
      "  'Uncle Waffles',\n",
      "  'Beyonce',\n",
      "  'Billie Eilish'\n",
      "]\n"
     ]
    }
   ],
   "source": [
    "// Let's remove Harry Styles and Beyonce and replace them with Nomfundo Moh and Uncle Waffles\n",
    "// Position will be 2 to add in where Harry is currently\n",
    "// Delete count will be 2 to delete Harry and Beyonce\n",
    "// The items will be Nomfundo Moh and Uncle Waffles\n",
    "people.splice(1,2,\"Nomfundo Moh\", \"Uncle Waffles\") \n",
    "console.log(people)"
   ]
  },
  {
   "cell_type": "markdown",
   "id": "33cdf142",
   "metadata": {},
   "source": [
    "### In Class Exercise #3\n",
    "<a id=\"ice3\"></a>\n"
   ]
  },
  {
   "cell_type": "markdown",
   "id": "da610571",
   "metadata": {},
   "source": [
    "In the Code Block below make an Array of your favorite foods.  Then using the methods we have learned, add `\"Fried Tarantulas\"` to the end of the array, then add `\"Mokh Mchermel\"` to the front. Then, using a slice of the now modified array, print your original list of favorite foods without my additions."
   ]
  },
  {
   "cell_type": "code",
   "execution_count": 18,
   "id": "83755526",
   "metadata": {},
   "outputs": [
    {
     "ename": "SyntaxError",
     "evalue": "Unexpected token ','",
     "output_type": "error",
     "traceback": [
      "evalmachine.<anonymous>:3",
      "console.log(fav_foods.splice(,\"fried tarantules\"))",
      "                             ^",
      "",
      "SyntaxError: Unexpected token ','",
      "    at new Script (node:vm:100:7)",
      "    at createScript (node:vm:259:10)",
      "    at Object.runInThisContext (node:vm:307:10)",
      "    at run ([eval]:1020:15)",
      "    at onRunRequest ([eval]:864:18)",
      "    at onMessage ([eval]:828:13)",
      "    at process.emit (node:events:513:28)",
      "    at emit (node:internal/child_process:937:14)",
      "    at process.processTicksAndRejections (node:internal/process/task_queues:83:21)"
     ]
    }
   ],
   "source": [
    "let fav_foods= [\"pizza\",\"burgers\",\"trail mix\"]\n",
    "fav_foods.push(\"fried tarantules\")\n",
    "fav_foods.unshift(\"mokh Mchermel\")\n",
    "console.log(fav_foods)\n",
    "console.log(fav_foods.slice)\n",
    "\n",
    "\n"
   ]
  },
  {
   "cell_type": "markdown",
   "id": "be6074b2",
   "metadata": {},
   "source": [
    "## Functions\n",
    "<a id=\"functions\"></a>\n"
   ]
  },
  {
   "cell_type": "markdown",
   "id": "23981211",
   "metadata": {},
   "source": [
    "There are two styles of functions we use in JavaScript: the traditional JS functions and arrow functions (introduced in ES6) "
   ]
  },
  {
   "cell_type": "markdown",
   "id": "66a98a87",
   "metadata": {},
   "source": [
    "### Regular Functions\n",
    "<a id=\"regfunc\"></a>\n"
   ]
  },
  {
   "cell_type": "markdown",
   "id": "46a20c05",
   "metadata": {},
   "source": [
    "The format of a function is JavaScript is:\n",
    "```\n",
    "function name(parameters){\n",
    "    //do stuff\n",
    "    return\n",
    "}\n",
    "```\n",
    "\n",
    "<strong>Note:</strong> In JavaScript, whitespace isn't important like it is in Python. In Python, we used indentation to create code blocks like the inside of a function, for loop, or if statement.  In JavaScript, we use braces {} to contain our code blocks.\n",
    "Following the Python indentation rules is still considered good practice and should be followed even in JS where the indentation doesn't affect the code execution.  This is to increase readability. "
   ]
  },
  {
   "cell_type": "code",
   "execution_count": 106,
   "id": "7813fdb6",
   "metadata": {},
   "outputs": [
    {
     "name": "stdout",
     "output_type": "stream",
     "text": [
      "9\n",
      "number\n",
      "function\n"
     ]
    }
   ],
   "source": [
    "function addNums(){\n",
    "    let num1 = 4\n",
    "    let num2 = 5\n",
    "    return num1 + num2\n",
    "}\n",
    "console.log(addNums()); //9\n",
    "console.log(typeof addNums()); // number\n",
    "console.log(typeof addNums); //function"
   ]
  },
  {
   "cell_type": "markdown",
   "id": "b4f55400",
   "metadata": {},
   "source": [
    "#### Using Parameters"
   ]
  },
  {
   "cell_type": "code",
   "execution_count": 107,
   "id": "ee733da7",
   "metadata": {},
   "outputs": [
    {
     "name": "stdout",
     "output_type": "stream",
     "text": [
      "9\n"
     ]
    }
   ],
   "source": [
    "\n",
    "function addNums2(num, num2){\n",
    "    return num+num2\n",
    "}\n",
    "console.log(addNums2(4, 5)); "
   ]
  },
  {
   "cell_type": "markdown",
   "id": "95e0f380",
   "metadata": {},
   "source": [
    "<strong>Note:</strong> JS will not require all parameters to be passed to let your function execute. This can cause undesired results"
   ]
  },
  {
   "cell_type": "code",
   "execution_count": 108,
   "id": "cdb2fa4d",
   "metadata": {
    "scrolled": true
   },
   "outputs": [
    {
     "name": "stdout",
     "output_type": "stream",
     "text": [
      "NaN\n"
     ]
    }
   ],
   "source": [
    "console.log(addNums2(4)); "
   ]
  },
  {
   "cell_type": "code",
   "execution_count": 109,
   "id": "5d2c9e3d",
   "metadata": {},
   "outputs": [],
   "source": [
    "function show(a,b){\n",
    "    console.log(\"a is\", a)\n",
    "    console.log(\"b is\", b)\n",
    "}"
   ]
  },
  {
   "cell_type": "code",
   "execution_count": 110,
   "id": "98466fdb",
   "metadata": {
    "scrolled": true
   },
   "outputs": [
    {
     "name": "stdout",
     "output_type": "stream",
     "text": [
      "a is This is for a\n",
      "b is undefined\n"
     ]
    }
   ],
   "source": [
    "show(\"This is for a\")"
   ]
  },
  {
   "cell_type": "markdown",
   "id": "61390759",
   "metadata": {},
   "source": [
    "<strong>Note:</strong> Keyword arguments in JS Do Not Work.  \n",
    "\n",
    "We will show you how optional and named parameters work in JS later on by passing objects and using object destructuring."
   ]
  },
  {
   "cell_type": "code",
   "execution_count": 111,
   "id": "ec2ede27",
   "metadata": {
    "scrolled": false
   },
   "outputs": [
    {
     "name": "stdout",
     "output_type": "stream",
     "text": [
      "a is This is for b\n",
      "b is This is for a\n"
     ]
    }
   ],
   "source": [
    "show(b=\"This is for b\", a=\"This is for a\") //Doesn't work"
   ]
  },
  {
   "cell_type": "markdown",
   "id": "1ec1626f",
   "metadata": {},
   "source": [
    "### In Class Exercise #4\n",
    "<a id=\"ice4\"></a>\n"
   ]
  },
  {
   "cell_type": "markdown",
   "id": "9f6c7e94",
   "metadata": {},
   "source": [
    "In the cell provided, create a JS Function that takes a first name and last name and returns a String that says Hello first name last name.\n",
    "The input would be something like:\n",
    "\n",
    "```\"Bo\", \"Jackson\"```\n",
    "\n",
    "and the output would be:\n",
    "\n",
    "```\"Hello Bo Jackson\"```"
   ]
  },
  {
   "cell_type": "code",
   "execution_count": null,
   "id": "9ca3e529",
   "metadata": {},
   "outputs": [],
   "source": [
    "function helloPerson(firstname, lastname)\n",
    "{\n",
    "    return hello\n",
    "}\n",
    "\n",
    "\n"
   ]
  },
  {
   "cell_type": "markdown",
   "id": "fefde374",
   "metadata": {},
   "source": [
    "### Arrow Functions\n",
    "<a id=\"arrowfunc\"></a>\n"
   ]
  },
  {
   "cell_type": "markdown",
   "id": "1b4fc022",
   "metadata": {},
   "source": [
    "Arrow Functions were introduced in ES 6\n",
    "\n",
    "They vary from regular functions in the way they handle the keyword `this` and `new` (more on that down the road)\n",
    "\n",
    "The syntax looks like this:\n",
    "\n",
    "```\n",
    "const functionName = (parameter1, parameter2) =>{\n",
    "    //do stuff\n",
    "    return\n",
    "}\n",
    "```\n",
    "\n",
    "if you only have one parameter, you can drop the parentheses:\n",
    "\n",
    "```\n",
    "const functionName = parameter1 =>{\n",
    "    //do stuff\n",
    "    return\n",
    "}\n",
    "```\n",
    "\n",
    "if you have no parameters if would look like this:\n",
    "\n",
    "```\n",
    "const functionName = () =>{\n",
    "    //do stuff\n",
    "    return\n",
    "}\n",
    "```\n",
    "\n",
    "<strong>Note:</strong> We are using the const keyword to declare our functions, while you can use the let keyword, const is considered good practice. This is because you can't accidently override your function with the const keyword.\n",
    "\n",
    "\n",
    "Another cool shortcut we get with arrow funtions is the ability to omit the return keyword in functions with only one line and still get a value returned. In this case, we also get to omit the function block's braces.\n",
    "\n",
    "If the function body is only one line of code (does not contain a newline or semicolon) then the line of code in the function will also be returned as its value.\n",
    "```\n",
    "const functionName = () => returnedValue\n",
    "```\n"
   ]
  },
  {
   "cell_type": "markdown",
   "id": "e372b694",
   "metadata": {},
   "source": [
    "##### Implicit Return"
   ]
  },
  {
   "cell_type": "code",
   "execution_count": 112,
   "id": "d7ff4f1e",
   "metadata": {
    "scrolled": true
   },
   "outputs": [
    {
     "name": "stdout",
     "output_type": "stream",
     "text": [
      "27\n"
     ]
    }
   ],
   "source": [
    "const cubed = () => 3**3;\n",
    "console.log(cubed())"
   ]
  },
  {
   "cell_type": "markdown",
   "id": "5e0e552d",
   "metadata": {},
   "source": [
    "##### Explicit Return"
   ]
  },
  {
   "cell_type": "code",
   "execution_count": 113,
   "id": "0b4fca1f",
   "metadata": {},
   "outputs": [
    {
     "name": "stdout",
     "output_type": "stream",
     "text": [
      "27\n"
     ]
    }
   ],
   "source": [
    "//Here, we stil have one line inside the function so an implicit return makes more sense\n",
    "const cubeda = () => {return 3**3;} \n",
    "console.log(cubeda())\n"
   ]
  },
  {
   "cell_type": "code",
   "execution_count": 114,
   "id": "d51151cc",
   "metadata": {},
   "outputs": [
    {
     "name": "stdout",
     "output_type": "stream",
     "text": [
      "27\n"
     ]
    }
   ],
   "source": [
    "// Here, our function body is multiple lines, so the explicit return is necessary\n",
    "const cubedb = () => {\n",
    "    let x = 3\n",
    "    return x**3;\n",
    "}\n",
    "console.log(cubedb())"
   ]
  },
  {
   "cell_type": "code",
   "execution_count": 115,
   "id": "f738d378",
   "metadata": {},
   "outputs": [
    {
     "name": "stdout",
     "output_type": "stream",
     "text": [
      "27\n"
     ]
    }
   ],
   "source": [
    "//With one parameter the parentheses are optional\n",
    "const cubed2=num=>num**3;\n",
    "console.log(cubed2(3))"
   ]
  },
  {
   "cell_type": "code",
   "execution_count": 116,
   "id": "112bfd7c",
   "metadata": {},
   "outputs": [
    {
     "name": "stdout",
     "output_type": "stream",
     "text": [
      "27\n"
     ]
    }
   ],
   "source": [
    "// You can still include the parentheses though\n",
    "const cubed2a=(num)=>num**3;\n",
    "console.log(cubed2a(3))"
   ]
  },
  {
   "cell_type": "code",
   "execution_count": 117,
   "id": "b21fcf4f",
   "metadata": {
    "scrolled": true
   },
   "outputs": [
    {
     "name": "stdout",
     "output_type": "stream",
     "text": [
      "27\n"
     ]
    }
   ],
   "source": [
    "// Multiple parameters require the parentheses\n",
    "const xpower=(x,p)=> x**p;\n",
    "console.log(xpower(3,3))"
   ]
  },
  {
   "cell_type": "markdown",
   "id": "b1ab52ca",
   "metadata": {},
   "source": [
    "### In Class Exercise #5\n",
    "\n",
    "In the cell provided Create an arrow function with no parameters and one line of code that returns the string `\"I am Beautiful\"`\n",
    "<a id=\"ice5\"></a>"
   ]
  },
  {
   "cell_type": "code",
   "execution_count": 21,
   "id": "4e3768c4",
   "metadata": {},
   "outputs": [
    {
     "ename": "SyntaxError",
     "evalue": "Unexpected identifier",
     "output_type": "error",
     "traceback": [
      "evalmachine.<anonymous>:1",
      "lst who =() => \"im a best\"",
      "    ^^^",
      "",
      "SyntaxError: Unexpected identifier",
      "    at new Script (node:vm:100:7)",
      "    at createScript (node:vm:259:10)",
      "    at Object.runInThisContext (node:vm:307:10)",
      "    at run ([eval]:1020:15)",
      "    at onRunRequest ([eval]:864:18)",
      "    at onMessage ([eval]:828:13)",
      "    at process.emit (node:events:513:28)",
      "    at emit (node:internal/child_process:937:14)",
      "    at process.processTicksAndRejections (node:internal/process/task_queues:83:21)"
     ]
    }
   ],
   "source": [
    "lst who =() => \"im a best\"\n",
    "\n",
    "\n",
    "\n"
   ]
  },
  {
   "cell_type": "markdown",
   "id": "de3eb39b",
   "metadata": {},
   "source": [
    "### In Class Exercise #6\n",
    "<a id=\"ice6\"></a>\n",
    "\n",
    "\n",
    "In the cells provided, write me a function using the keyword function and AGAIN as an arrow function that takes in 3 parameters: one of a name, of an age, and a multiplierm and returns a string that says:\n",
    "`If I multiply [PERSON's NAME]'s age by [muiltiplier] I get [age x multiplier]`\n",
    "\n",
    "So if we have `'Steve'` and his age is `20` and the multiplier is `4`, the output will be\n",
    "`\"If I multiply Steve's age by 4 I get 80\"`"
   ]
  },
  {
   "cell_type": "code",
   "execution_count": 118,
   "id": "98c6093d",
   "metadata": {},
   "outputs": [],
   "source": [
    "//Traditional Function\n",
    "function mage(name,age, multipler)\n",
    "   {\n",
    "       \n",
    "   }\n",
    "\n"
   ]
  },
  {
   "cell_type": "code",
   "execution_count": 119,
   "id": "f042bc6c",
   "metadata": {},
   "outputs": [],
   "source": [
    "//Arrow Function with implicit return\n",
    "\n",
    "\n",
    "\n"
   ]
  },
  {
   "cell_type": "markdown",
   "id": "e53ef88f",
   "metadata": {},
   "source": [
    "## The Spread Operator `...`\n",
    "<a id=\"spread\"></a>\n"
   ]
  },
  {
   "cell_type": "markdown",
   "id": "3f2d33ba",
   "metadata": {},
   "source": [
    "The spread and the rest operator `...` are the same operators, but the function differently depending on context\n",
    "\n",
    "When used to spread an array it will unpack all the members of an array and can be used to pass them as parameters"
   ]
  },
  {
   "cell_type": "code",
   "execution_count": 120,
   "id": "f7278b04",
   "metadata": {},
   "outputs": [],
   "source": [
    "let testSpread=[2,5,1]\n",
    "function useSpread(x,y,z){\n",
    "    return x*y+z\n",
    "}"
   ]
  },
  {
   "cell_type": "code",
   "execution_count": 121,
   "id": "69c50217",
   "metadata": {},
   "outputs": [
    {
     "data": {
      "text/plain": [
       "11"
      ]
     },
     "execution_count": 121,
     "metadata": {},
     "output_type": "execute_result"
    }
   ],
   "source": [
    "// traditioanlly we could call the function like this\n",
    "useSpread(2,5,1)"
   ]
  },
  {
   "cell_type": "code",
   "execution_count": 122,
   "id": "bfdab150",
   "metadata": {},
   "outputs": [
    {
     "data": {
      "text/plain": [
       "11"
      ]
     },
     "execution_count": 122,
     "metadata": {},
     "output_type": "execute_result"
    }
   ],
   "source": [
    "//or like\n",
    "useSpread(testSpread[0],testSpread[1],testSpread[2])"
   ]
  },
  {
   "cell_type": "code",
   "execution_count": 123,
   "id": "b89f6773",
   "metadata": {},
   "outputs": [
    {
     "data": {
      "text/plain": [
       "11"
      ]
     },
     "execution_count": 123,
     "metadata": {},
     "output_type": "execute_result"
    }
   ],
   "source": [
    "// using the spread operator\n",
    "useSpread(...testSpread)"
   ]
  },
  {
   "cell_type": "markdown",
   "id": "78bfd49f",
   "metadata": {},
   "source": [
    "## Flow Control\n",
    "<a id=\"flow\"></a>\n"
   ]
  },
  {
   "cell_type": "markdown",
   "id": "ad6dbb2f",
   "metadata": {},
   "source": [
    "### If Statement\n",
    "<a id=\"if\"></a>\n"
   ]
  },
  {
   "cell_type": "markdown",
   "id": "1fad0803",
   "metadata": {},
   "source": [
    "Like most programming languages, JavaScript provide us with the if Statement.\n",
    "We must include our Boolean value or expression inside parentheses.\n",
    "\n",
    "Syntax:\n",
    "```\n",
    "if(aVar==aValue){\n",
    "    //do stuff\n",
    "}else if(aVar==aDifferentValue){\n",
    "    //do stuff\n",
    "}else{\n",
    "    //do stuff\n",
    "}\n",
    "```"
   ]
  },
  {
   "cell_type": "markdown",
   "id": "40e29a25",
   "metadata": {},
   "source": [
    "#### If"
   ]
  },
  {
   "cell_type": "code",
   "execution_count": 124,
   "id": "03291b29",
   "metadata": {},
   "outputs": [
    {
     "name": "stdout",
     "output_type": "stream",
     "text": [
      "You are in the Prime of your Life\n",
      "undefined\n"
     ]
    }
   ],
   "source": [
    "function determineAge1(age){\n",
    "if (age<35){\n",
    "        return \"You are in the Prime of your Life\"\n",
    "    }\n",
    "}\n",
    "console.log(determineAge1(12)) // You are in the Prime of your Life\n",
    "console.log(determineAge1(50)) // undefined"
   ]
  },
  {
   "cell_type": "markdown",
   "id": "0ac452e0",
   "metadata": {},
   "source": [
    "#### If/Else"
   ]
  },
  {
   "cell_type": "code",
   "execution_count": 125,
   "id": "cdba97f7",
   "metadata": {},
   "outputs": [
    {
     "name": "stdout",
     "output_type": "stream",
     "text": [
      "You are in the Prime of your Life\n",
      "You are getting up there in age\n"
     ]
    }
   ],
   "source": [
    "function determineAge2(age){\n",
    "if (age<35){\n",
    "        return \"You are in the Prime of your Life\"\n",
    "    }else{\n",
    "        return \"You are getting up there in age\"\n",
    "    }\n",
    "}\n",
    "console.log(determineAge2(12)) // You are in the Prime of your Life\n",
    "console.log(determineAge2(55)) // \"You are getting up there in age\""
   ]
  },
  {
   "cell_type": "code",
   "execution_count": 126,
   "id": "2a821700",
   "metadata": {
    "scrolled": true
   },
   "outputs": [
    {
     "name": "stdout",
     "output_type": "stream",
     "text": [
      "You are in the Prime of your Life\n",
      "You are middle aged\n",
      "Time to Retire\n"
     ]
    }
   ],
   "source": [
    "function determineAge3(age){\n",
    "if (age<35){\n",
    "        return \"You are in the Prime of your Life\"\n",
    "    }else if(age>=35 && age<=50){\n",
    "        return \"You are middle aged\"\n",
    "    }else{\n",
    "        return \"Time to Retire\"\n",
    "    }\n",
    "}\n",
    "console.log(determineAge3(12)) // You are in the Prime of your Life\n",
    "console.log(determineAge3(44))  // \"You are middle aged\"\n",
    "console.log(determineAge3(55)) // \"Time to Retire\""
   ]
  },
  {
   "cell_type": "markdown",
   "id": "7d9690c0",
   "metadata": {},
   "source": [
    "### In Class Exercise #7\n",
    "<a id=\"ice7\"></a>\n"
   ]
  },
  {
   "cell_type": "markdown",
   "id": "aebd7ad1",
   "metadata": {},
   "source": [
    "In the cells provided, create a function that takes in two strings and returns whether they are equal or if they are different. This comparision should be case insensitive.\n",
    "\n",
    "Inputs:\n",
    "`STEVE` `steve`\n",
    "Returns:\n",
    "`STEVE is the same as steve`\n",
    "\n",
    "Inputs:\n",
    "`john` `steve`\n",
    "Returns:\n",
    "`john is not the same as steve`\n",
    "\n"
   ]
  },
  {
   "cell_type": "code",
   "execution_count": 61,
   "id": "ae94b898",
   "metadata": {},
   "outputs": [],
   "source": [
    "\n",
    "\n",
    "function greet(name, name2) {\n",
    "  if (name === name2) {\n",
    "    return 'Hello ${name} is the same as ${name2}';\n",
    "  } else {\n",
    "    return '${name1} is not the same';\n",
    "  }\n",
    "}\n",
    "    \n",
    "\n",
    "\n",
    "\n"
   ]
  },
  {
   "cell_type": "markdown",
   "id": "b2dc7251",
   "metadata": {},
   "source": [
    "### Ternary If Statement\n",
    "<a id=\"ternary\"></a>\n"
   ]
  },
  {
   "cell_type": "markdown",
   "id": "d818e7d4",
   "metadata": {},
   "source": [
    "JS also provides us with the Ternary if syntax for writing if statements on one line.\n",
    "\n",
    "This become exteremely important when we work with React\n",
    "\n",
    "syntax:\n",
    "```\n",
    "boolean ? actionIfTrue : actionIfFalse\n",
    "```"
   ]
  },
  {
   "cell_type": "code",
   "execution_count": 127,
   "id": "9feb9fcc",
   "metadata": {},
   "outputs": [
    {
     "name": "stdout",
     "output_type": "stream",
     "text": [
      "Adult\n",
      "Minor\n"
     ]
    }
   ],
   "source": [
    "function determineAgeA(age){\n",
    "    return age < 18 ? 'Minor' : 'Adult';\n",
    "}\n",
    "console.log(determineAgeA(18))\n",
    "console.log(determineAgeA(7))\n"
   ]
  },
  {
   "cell_type": "code",
   "execution_count": 128,
   "id": "37c35968",
   "metadata": {},
   "outputs": [
    {
     "name": "stdout",
     "output_type": "stream",
     "text": [
      "Minor\n",
      "Adult\n",
      "In the grave\n"
     ]
    }
   ],
   "source": [
    "function determineAgeB(age){\n",
    "    return age < 18 ? 'Minor' : age >=65 ? 'In the grave' : 'Adult';\n",
    "}\n",
    "console.log(determineAgeB(16))\n",
    "console.log(determineAgeB(28))\n",
    "console.log(determineAgeB(99))\n"
   ]
  },
  {
   "cell_type": "markdown",
   "id": "beffd29e",
   "metadata": {},
   "source": [
    "### Traditional For Loops\n",
    "<a id=\"loop\"></a>\n"
   ]
  },
  {
   "cell_type": "markdown",
   "id": "8d08d426",
   "metadata": {},
   "source": [
    "The style of the for loop is a bit different than in Python and closer to what you see in languages like C and Java.\n",
    "\n",
    "It is much easier to think of the for loop as a condensed while loop.\n",
    "\n",
    "The syntax is:\n",
    "```\n",
    "   for(aVar=startingNumber; stopCondition; aVarIncrementer){\n",
    "       //do stuff\n",
    "   }\n",
    "```\n",
    "\n",
    "The aVar=startingNumber is starting a counter to control your for loop (generally `i` is used here)\n",
    "\n",
    "The stopCondition is a boolean that describes when to terminate the loop (generally based on the value of `i` (aVar)\n",
    "\n",
    "The aVarIncrementer is to increment the value of aVar after each iteration of the loop"
   ]
  },
  {
   "cell_type": "code",
   "execution_count": 129,
   "id": "1876763f",
   "metadata": {
    "scrolled": true
   },
   "outputs": [
    {
     "name": "stdout",
     "output_type": "stream",
     "text": [
      "0\n",
      "1\n",
      "2\n",
      "3\n",
      "4\n",
      "5\n"
     ]
    }
   ],
   "source": [
    "// Simple Example\n",
    "\n",
    "for (i=0; i<=5; i++){\n",
    "    console.log(i)\n",
    "}"
   ]
  },
  {
   "cell_type": "markdown",
   "id": "52a9c800",
   "metadata": {},
   "source": [
    "<strong>Note:</strong> Above, we started i as 0 and then after every loop we do i++ which increments i by one\n",
    "\n",
    "The boolean condition in the middle says to run this loop until i reaches 5"
   ]
  },
  {
   "cell_type": "markdown",
   "id": "27c25aa0",
   "metadata": {},
   "source": [
    "#### For loop with an array"
   ]
  },
  {
   "cell_type": "markdown",
   "id": "0b2308ea",
   "metadata": {},
   "source": [
    "We will now loop over an array\n",
    "\n",
    "Since array indexing starts at zero we will start with i=0\n",
    "\n",
    "Since we want to print out every member of the array, we will use i++ as our incrementer\n",
    "\n",
    "And we want to loop over the entirety of the array, so we will make our stop condition i < length of the list "
   ]
  },
  {
   "cell_type": "code",
   "execution_count": 130,
   "id": "05440ffe",
   "metadata": {},
   "outputs": [
    {
     "name": "stdout",
     "output_type": "stream",
     "text": [
      "a\n",
      "b\n",
      "c\n",
      "d\n"
     ]
    }
   ],
   "source": [
    "let letterList=[\"a\",\"b\",\"c\",\"d\"]\n",
    "\n",
    "for (i=0;i<letterList.length;i++){\n",
    "    console.log(letterList[i])\n",
    "}"
   ]
  },
  {
   "cell_type": "markdown",
   "id": "ef5fb38d",
   "metadata": {},
   "source": [
    "#### Decrementing For Loop"
   ]
  },
  {
   "cell_type": "markdown",
   "id": "879440ed",
   "metadata": {},
   "source": [
    "Now lets try looping through our array backwards\n",
    "\n",
    "We want to now start at the end of the array, so we will start at the length of the array -1 (minus 1 because the last index is one less than the length)\n",
    "\n",
    "We want to step backwards from the end of the list. We will decrement i once each loop, so our incrementer will be i--\n",
    "\n",
    "Then we want to stop when we reached the last index which would be 0 so our boolean will be i>=0"
   ]
  },
  {
   "cell_type": "code",
   "execution_count": 131,
   "id": "c72f39ee",
   "metadata": {},
   "outputs": [
    {
     "name": "stdout",
     "output_type": "stream",
     "text": [
      "d\n",
      "c\n",
      "b\n",
      "a\n"
     ]
    }
   ],
   "source": [
    "for(i=letterList.length-1;i>=0;i--){\n",
    " console.log(letterList[i])   \n",
    "}"
   ]
  },
  {
   "cell_type": "markdown",
   "id": "519a685a",
   "metadata": {},
   "source": [
    "#### Skipping Increments"
   ]
  },
  {
   "cell_type": "markdown",
   "id": "55c2e2a1",
   "metadata": {},
   "source": [
    "Now lets just print out the odd indices of our list"
   ]
  },
  {
   "cell_type": "code",
   "execution_count": 132,
   "id": "f12f1bc7",
   "metadata": {
    "scrolled": true
   },
   "outputs": [
    {
     "name": "stdout",
     "output_type": "stream",
     "text": [
      "b\n",
      "d\n"
     ]
    }
   ],
   "source": [
    "for(i=1;i<=letterList.length;i+=2){\n",
    " console.log(letterList[i])   \n",
    "}"
   ]
  },
  {
   "cell_type": "markdown",
   "id": "4d26a9e1",
   "metadata": {},
   "source": [
    "### In Class Exercise #8\n",
    "<a id=\"ice8\"></a>\n"
   ]
  },
  {
   "cell_type": "markdown",
   "id": "d0d98c52",
   "metadata": {},
   "source": [
    "In the cell provided, create a list of 9 of your favorite candies, and loop over that list printing every 3 members of the list, (so items at indices 2, 5 and 8).\n",
    "\n",
    "Input\n",
    "\n",
    "```[\"Snikers\",\"Take 5\",\"Whatchamacallit\",\"Twix\",\"Sprees\",\"Sweetarts\",\"Runts\",\"Haribo Gummy Bears\",\"Sour Patch Kids\"]```\n",
    "\n",
    "Expected output:\n",
    "\n",
    "```\n",
    "Whatchamacallit\n",
    "Sweetarts\n",
    "Sour Patch Kids```"
   ]
  },
  {
   "cell_type": "code",
   "execution_count": 67,
   "id": "f8165680",
   "metadata": {},
   "outputs": [
    {
     "name": "stdout",
     "output_type": "stream",
     "text": [
      "receese\n",
      "Sweetarts\n",
      "Sour Patch Kids\n"
     ]
    }
   ],
   "source": [
    " var candy = [\"Snikers\",\"Take 5\",\"receese\",\"Twix\",\"Sprees\",\"Sweetarts\",\"Runts\",\"Haribo Gummy Bears\",\"Sour Patch Kids\"]\n",
    "\n",
    "for(i=2;i<candy.length;i+=3)\n",
    "    {\n",
    "       console.log(candy[i]);\n",
    "    }\n",
    "\n"
   ]
  },
  {
   "cell_type": "markdown",
   "id": "31f60c21",
   "metadata": {},
   "source": [
    "### For Of Loops\n",
    "<a id=\"forof\"><a>"
   ]
  },
  {
   "cell_type": "markdown",
   "id": "f201fac9",
   "metadata": {},
   "source": [
    "JS introduced for of loops in ES6, and they provide a simple way to loop over a list\n",
    "\n",
    "<strong>BE CAREFUL!</strong> this is similar to the `for in` loop in python, but it is `for of`!\n",
    "\n",
    "`for in` is a different loop in JS that loops over Object (more on that later)\n",
    "\n",
    "Syntax:\n",
    "\n",
    "```\n",
    "for( let placeholder of arrayVar){\n",
    "    //do stuff\n",
    "}\n",
    "```"
   ]
  },
  {
   "cell_type": "code",
   "execution_count": 133,
   "id": "31734e2e",
   "metadata": {},
   "outputs": [
    {
     "name": "stdout",
     "output_type": "stream",
     "text": [
      "a\n",
      "b\n",
      "c\n",
      "d\n"
     ]
    }
   ],
   "source": [
    "for(let letter of letterList){\n",
    "    console.log(letter)\n",
    "}"
   ]
  },
  {
   "cell_type": "markdown",
   "id": "35814c57",
   "metadata": {},
   "source": [
    "### While Loops\n",
    "<a id=\"while\"></a>\n"
   ]
  },
  {
   "cell_type": "markdown",
   "id": "61319b6a",
   "metadata": {},
   "source": [
    "Of course JS has a while loop and it works just like Python's\n",
    "\n",
    "Syntax\n",
    "\n",
    "```\n",
    "while(condition){\n",
    "    //do stuff\n",
    "}\n",
    "```\n"
   ]
  },
  {
   "cell_type": "code",
   "execution_count": 134,
   "id": "0e79ee85",
   "metadata": {},
   "outputs": [
    {
     "name": "stdout",
     "output_type": "stream",
     "text": [
      "0\n",
      "1\n",
      "2\n",
      "3\n"
     ]
    },
    {
     "data": {
      "text/plain": [
       "3"
      ]
     },
     "execution_count": 134,
     "metadata": {},
     "output_type": "execute_result"
    }
   ],
   "source": [
    "let myCounter=0\n",
    "while(myCounter<4){\n",
    "    console.log(myCounter)\n",
    "    myCounter++\n",
    "}"
   ]
  },
  {
   "cell_type": "markdown",
   "id": "0f74b55d",
   "metadata": {},
   "source": [
    "### Break and Continue\n",
    "<a id=\"bandc\"></a>\n"
   ]
  },
  {
   "cell_type": "markdown",
   "id": "12bd6a92",
   "metadata": {},
   "source": [
    "The keywords break and continue work just the same as they do in Python"
   ]
  },
  {
   "cell_type": "code",
   "execution_count": 135,
   "id": "5a6e85d5",
   "metadata": {},
   "outputs": [
    {
     "name": "stdout",
     "output_type": "stream",
     "text": [
      "0\n",
      "1\n"
     ]
    }
   ],
   "source": [
    "let myCounter1=0\n",
    "while(myCounter1<4){\n",
    "    if(myCounter1 == 2){\n",
    "        break\n",
    "    }\n",
    "    console.log(myCounter1)\n",
    "    myCounter1++\n",
    "}"
   ]
  },
  {
   "cell_type": "code",
   "execution_count": 136,
   "id": "4da08925",
   "metadata": {},
   "outputs": [
    {
     "name": "stdout",
     "output_type": "stream",
     "text": [
      "0\n",
      "1\n",
      "We found the count of 2\n",
      "3\n"
     ]
    },
    {
     "data": {
      "text/plain": [
       "3"
      ]
     },
     "execution_count": 136,
     "metadata": {},
     "output_type": "execute_result"
    }
   ],
   "source": [
    "let myCounter2=0\n",
    "while(myCounter2<4){\n",
    "    if(myCounter2 == 2){\n",
    "        console.log('We found the count of 2')\n",
    "        myCounter2++\n",
    "        continue\n",
    "    }\n",
    "    console.log(myCounter2)\n",
    "    myCounter2++\n",
    "}"
   ]
  },
  {
   "cell_type": "markdown",
   "id": "73c0d094",
   "metadata": {},
   "source": [
    "## State of an Application\n",
    "<a id=\"state\"></a>\n"
   ]
  },
  {
   "cell_type": "markdown",
   "id": "96498154",
   "metadata": {},
   "source": [
    "An application is said to have a state. The state of an application changes quite often. When we talk about state, we are generally talking about the current values of all of our variables at a specific moment during execution."
   ]
  },
  {
   "cell_type": "markdown",
   "id": "15871f36",
   "metadata": {},
   "source": [
    "Imagine pausing the following for loop after the first interation of the loop"
   ]
  },
  {
   "cell_type": "code",
   "execution_count": 137,
   "id": "c3a73b49",
   "metadata": {},
   "outputs": [
    {
     "name": "stdout",
     "output_type": "stream",
     "text": [
      "0\n",
      "1\n",
      "2\n",
      "3\n",
      "4\n"
     ]
    }
   ],
   "source": [
    "let acolor=\"Red\"\n",
    "for(i=0;i<5;i++){\n",
    "    acolor=\"blue\"\n",
    "    console.log(i)\n",
    "}"
   ]
  },
  {
   "cell_type": "markdown",
   "id": "4c185d6e",
   "metadata": {},
   "source": [
    "If we pause the execution of this code during after our first iteration of the foor loop, we can describe the state like:\n",
    "\n",
    "color = \"blue\"\n",
    "\n",
    "i = 1\n",
    "\n",
    "This is different than the original state (before we ran any code). The original state could be described like:\n",
    "\n",
    "color=\"Red\"\n",
    "\n",
    "i = 0 \n",
    "\n",
    "While this may seem trivial in this example, imagine a large application with many variables over many files. You can start to see how knowing what state your application is in, at a given moment, can explain why your application is behaving in the way that it is.\n",
    "\n",
    "In this case, this state information about i is lost after the for loops executes. "
   ]
  },
  {
   "cell_type": "markdown",
   "id": "1d94fe8f",
   "metadata": {},
   "source": [
    "<a id=\"hw\"></a>\n",
    "# Homework"
   ]
  },
  {
   "cell_type": "markdown",
   "id": "d8fd6bbb",
   "metadata": {},
   "source": [
    "Complete the Following Coding Questions in JavaScript."
   ]
  },
  {
   "cell_type": "markdown",
   "id": "b5a02513",
   "metadata": {},
   "source": [
    "#### Question #1"
   ]
  },
  {
   "cell_type": "markdown",
   "id": "3aab52e7",
   "metadata": {},
   "source": [
    "Write a function that takes a string (sentence) and an array of strings (in this example dog_names) and check if one of the list members (dog names) is in the string (sentence). Return an array of the dog names found in the array\n",
    "\n",
    "hint: filter, includes \n",
    "\n",
    "for information on includes see:\n",
    "\n",
    "[https://developer.mozilla.org/en-US/docs/Web/JavaScript/Reference/Global_Objects/Array/includes](https://developer.mozilla.org/en-US/docs/Web/JavaScript/Reference/Global_Objects/Array/includes)"
   ]
  },
  {
   "cell_type": "code",
   "execution_count": 71,
   "id": "c3fae99e",
   "metadata": {},
   "outputs": [
    {
     "name": "stdout",
     "output_type": "stream",
     "text": [
      "[ 'Max' ]\n",
      "[]\n",
      "[ 'Fido', 'Gizmo' ]\n"
     ]
    }
   ],
   "source": [
    "var dogNames = [\"Max\",\"Fido\",\"Gizmo\",\"Nala\"]\n",
    "\n",
    "//Test Cases\n",
    "var testString1 = \"Hello, my dog is Max, and they have purple eyes!\"\n",
    "//Expect ['Max']\n",
    "\n",
    "var testString2 = \"My Dog is fast, her name is Tippi\"\n",
    "//Expect []\n",
    "\n",
    "var testString3 = \"Come here Fido and Gizmo come here\"\n",
    "//Expect['Fido','Gizmo']\n",
    "\n",
    "function indoglist(sent, array_dog)\n",
    "{\n",
    "    return array_dog.filter(str => sent.includes(str))\n",
    "    \n",
    "}\n",
    "console.log(indoglist(testString1,dogNames))\n",
    "console.log(indoglist(testString2,dogNames))\n",
    "console.log(indoglist(testString3,dogNames))"
   ]
  },
  {
   "cell_type": "code",
   "execution_count": null,
   "id": "42bf48a9",
   "metadata": {},
   "outputs": [],
   "source": []
  },
  {
   "cell_type": "markdown",
   "id": "2769b4d8",
   "metadata": {},
   "source": [
    "#### Question #2"
   ]
  },
  {
   "cell_type": "markdown",
   "id": "7a36aafa",
   "metadata": {},
   "source": [
    "Write a Function using `map` to convert an array of number from inches to feet \n",
    "\n",
    "1 foot = 12 inches "
   ]
  },
  {
   "cell_type": "code",
   "execution_count": 56,
   "id": "e9efaa5f",
   "metadata": {},
   "outputs": [
    {
     "name": "stdout",
     "output_type": "stream",
     "text": [
      "[\n",
      "  5.5,\n",
      "  5.333333333333333,\n",
      "  5,\n",
      "  4.333333333333333,\n",
      "  6,\n",
      "  6.666666666666667,\n",
      "  4.25\n",
      "]\n"
     ]
    }
   ],
   "source": [
    "var heightsInInches = [66, 64, 60, 52, 72, 80, 51]\n",
    "// Expect\n",
    "// [\n",
    "//   5.5,\n",
    "//   5.333333333333333,\n",
    "//   5,\n",
    "//   4.333333333333333,\n",
    "//   6,\n",
    "//   6.666666666666667,\n",
    "//   4.25\n",
    "// ]\n",
    "\n",
    "function tofeet(heightsInInches)\n",
    "{ \n",
    "    heightsInInches.map(function(inches){\n",
    "        return inches/12\n",
    "    });\n",
    "}\n",
    "console.log(heightsInInches.map(function(inches){\n",
    "        return inches/12\n",
    "    }));"
   ]
  },
  {
   "cell_type": "code",
   "execution_count": null,
   "id": "53e95009",
   "metadata": {},
   "outputs": [],
   "source": []
  },
  {
   "cell_type": "markdown",
   "id": "8d40af30",
   "metadata": {},
   "source": [
    "#### Question #3"
   ]
  },
  {
   "cell_type": "markdown",
   "id": "b92381b8",
   "metadata": {},
   "source": [
    "Using the Ternary Operator and map create an array that adds `is eating pizza` to every name from the array `tmnt` that ends with `o` and add `is being rude` to any other name."
   ]
  },
  {
   "cell_type": "code",
   "execution_count": 140,
   "id": "719c84f4",
   "metadata": {},
   "outputs": [],
   "source": [
    "var tmnt = [\"Leonardo\", \"Michelangelo\", \"Donatello\", \"Raphael\"]\n",
    "// expect\n",
    "// [\n",
    "//   'Leonardo is eating pizza',\n",
    "//   'Michelangelo is eating pizza',\n",
    "//   'Donatello is eating pizza',\n",
    "//   'Raphael is being rude'\n",
    "// ]\n"
   ]
  },
  {
   "cell_type": "markdown",
   "id": "2fdd1b7d",
   "metadata": {},
   "source": [
    "#### Question #4"
   ]
  },
  {
   "cell_type": "markdown",
   "id": "9a70ee9d",
   "metadata": {},
   "source": [
    "Write an arrow function to find the max number in a list.  Do not use the Math.max Function.\n",
    "\n",
    "The List will be all positive numbers"
   ]
  },
  {
   "cell_type": "code",
   "execution_count": 141,
   "id": "2f9a675b",
   "metadata": {},
   "outputs": [],
   "source": [
    "var findAMax=[123,5436,45784,1234,34,65,234125,645,3452,13216,49]\n",
    "//Expect\n",
    "// 234125\n",
    "\n",
    "\n",
    "\n",
    "\n",
    "\n",
    "\n",
    "\n"
   ]
  },
  {
   "cell_type": "markdown",
   "id": "58414506",
   "metadata": {},
   "source": [
    "#### Question #5"
   ]
  },
  {
   "cell_type": "markdown",
   "id": "4873021e",
   "metadata": {},
   "source": [
    "At the <b>end</b> of the <b>third</b> Iteration (the third time the loop has ran) of this for Loop define the state of all the variables used in the cell"
   ]
  },
  {
   "cell_type": "code",
   "execution_count": 142,
   "id": "04117ac8",
   "metadata": {},
   "outputs": [
    {
     "data": {
      "text/plain": [
       "'O-G-N-I-B'"
      ]
     },
     "execution_count": 142,
     "metadata": {},
     "output_type": "execute_result"
    }
   ],
   "source": [
    "var bingo = \"B-I-N-G-O\"\n",
    "var ognib = \"\"\n",
    "for(let i=bingo.length-1; i>=0; i--){\n",
    "    ognib+=(bingo[i])\n",
    "    //define state from this line on the third iteration\n",
    "}"
   ]
  },
  {
   "cell_type": "code",
   "execution_count": 143,
   "id": "9f373651",
   "metadata": {},
   "outputs": [],
   "source": [
    "//bingo value is\n",
    "\n",
    "//ognib value is\n",
    "\n",
    "// i value is\n"
   ]
  },
  {
   "cell_type": "markdown",
   "id": "ebfc4d21",
   "metadata": {},
   "source": [
    "#### Question #6"
   ]
  },
  {
   "cell_type": "markdown",
   "id": "cfc0c75a",
   "metadata": {},
   "source": [
    "Complete 3 Codewars problems using JavaScript, start with ones you have already solved in python.  Paste a link hear to the 3 questions you completed"
   ]
  },
  {
   "cell_type": "markdown",
   "id": "e13a0943",
   "metadata": {},
   "source": [
    "1:\n",
    "\n",
    "Complete the method that takes a boolean value and return a \"Yes\" string for true, or a \"No\" string for false.\n",
    "\n",
    "\n",
    "function boolToWord(bool) {\n",
    "  if (bool) {\n",
    "    return \"Yes\";\n",
    "  } else {\n",
    "    return \"No\";\n",
    "  }\n",
    "}\n",
    "\n",
    "\n",
    "2:Create a function that gives a personalized greeting. This function takes two parameters: name and owner.\n",
    "\n",
    "Use conditionals to return the proper message:\n",
    "\n",
    "case\treturn\n",
    "name equals owner\t'Hello boss'\n",
    "otherwise\t'Hello guest'\n",
    "\n",
    "function greet(name, owner) {\n",
    "  if (name === owner) {\n",
    "    return 'Hello boss';\n",
    "  } else {\n",
    "    return 'Hello guest';\n",
    "  }\n",
    "}\n",
    "\n",
    "3:Now you have to write a function that takes an argument and returns the square of it.\n",
    "function square(num)\n",
    "{\n",
    "  return num*num\n",
    "}\n",
    "\n"
   ]
  }
 ],
 "metadata": {
  "kernelspec": {
   "display_name": "JavaScript (Node.js)",
   "language": "javascript",
   "name": "javascript"
  },
  "language_info": {
   "file_extension": ".js",
   "mimetype": "application/javascript",
   "name": "javascript",
   "version": "18.15.0"
  }
 },
 "nbformat": 4,
 "nbformat_minor": 5
}
